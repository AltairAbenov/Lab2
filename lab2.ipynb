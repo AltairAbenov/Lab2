{
 "cells": [
  {
   "cell_type": "markdown",
   "id": "eae5c1ff-eed6-4022-806e-448f88648c6f",
   "metadata": {},
   "source": [
    "Example 1"
   ]
  },
  {
   "cell_type": "code",
   "execution_count": 2,
   "id": "ddde5387-78cf-4e6c-a188-9aed949bcc2c",
   "metadata": {},
   "outputs": [
    {
     "name": "stdout",
     "output_type": "stream",
     "text": [
      "True\n",
      "False\n",
      "False\n"
     ]
    }
   ],
   "source": [
    "print(10 > 9)\n",
    "print(10 == 9)\n",
    "print(10 < 9)"
   ]
  },
  {
   "cell_type": "markdown",
   "id": "b2b0b7e0-643d-45e1-a789-ac85958c5949",
   "metadata": {},
   "source": [
    "Example 2"
   ]
  },
  {
   "cell_type": "code",
   "execution_count": 5,
   "id": "d559bd83-6cd6-4970-b6b1-2f51d08f8720",
   "metadata": {},
   "outputs": [
    {
     "name": "stdout",
     "output_type": "stream",
     "text": [
      "b is not greater than a\n"
     ]
    }
   ],
   "source": [
    "a = 200\n",
    "b = 33\n",
    "\n",
    "if b > a:\n",
    "  print(\"b is greater than a\")\n",
    "else:\n",
    "  print(\"b is not greater than a\")"
   ]
  },
  {
   "cell_type": "markdown",
   "id": "2c2d653e-5418-400a-a46d-bb851afe0f2e",
   "metadata": {},
   "source": [
    "Example 3"
   ]
  },
  {
   "cell_type": "code",
   "execution_count": 8,
   "id": "7b95c20d-ccb7-452c-8cdc-223d1e43a0a0",
   "metadata": {},
   "outputs": [
    {
     "name": "stdout",
     "output_type": "stream",
     "text": [
      "True\n",
      "True\n"
     ]
    }
   ],
   "source": [
    "print(bool(\"Hello\"))\n",
    "print(bool(15))"
   ]
  },
  {
   "cell_type": "markdown",
   "id": "550186c3-004d-4275-86fc-111090bbc077",
   "metadata": {},
   "source": [
    "Example 4"
   ]
  },
  {
   "cell_type": "code",
   "execution_count": 11,
   "id": "69cd5b7f-963f-462e-ade8-268c5db5a268",
   "metadata": {},
   "outputs": [
    {
     "name": "stdout",
     "output_type": "stream",
     "text": [
      "True\n",
      "True\n"
     ]
    }
   ],
   "source": [
    "x = \"Hello\"\n",
    "y = 15\n",
    "\n",
    "print(bool(x))\n",
    "print(bool(y))"
   ]
  },
  {
   "cell_type": "markdown",
   "id": "34b2ec2f-38a5-40d2-a621-fc6dc4820099",
   "metadata": {},
   "source": [
    "Example 5"
   ]
  },
  {
   "cell_type": "code",
   "execution_count": 14,
   "id": "90d5f939-3d03-47c4-8242-ba71404db576",
   "metadata": {},
   "outputs": [
    {
     "data": {
      "text/plain": [
       "True"
      ]
     },
     "execution_count": 14,
     "metadata": {},
     "output_type": "execute_result"
    }
   ],
   "source": [
    "bool(\"abc\")\n",
    "bool(123)\n",
    "bool([\"apple\", \"cherry\", \"banana\"])"
   ]
  },
  {
   "cell_type": "markdown",
   "id": "92c685ff-3d90-4785-b8a4-246fe5e24cb6",
   "metadata": {},
   "source": [
    "Example 6"
   ]
  },
  {
   "cell_type": "code",
   "execution_count": 17,
   "id": "d5da40f1-486d-49ea-bdff-895c26c82a07",
   "metadata": {},
   "outputs": [
    {
     "data": {
      "text/plain": [
       "False"
      ]
     },
     "execution_count": 17,
     "metadata": {},
     "output_type": "execute_result"
    }
   ],
   "source": [
    "bool(False)\n",
    "bool(None)\n",
    "bool(0)\n",
    "bool(\"\")\n",
    "bool(())\n",
    "bool([])\n",
    "bool({})"
   ]
  },
  {
   "cell_type": "markdown",
   "id": "0930f89c-6bbc-43a5-8af1-a8d31300bc42",
   "metadata": {},
   "source": [
    "Example 7"
   ]
  },
  {
   "cell_type": "code",
   "execution_count": 20,
   "id": "dd3a7155-9a46-474f-aa6a-e6b930d1c728",
   "metadata": {},
   "outputs": [
    {
     "name": "stdout",
     "output_type": "stream",
     "text": [
      "False\n"
     ]
    }
   ],
   "source": [
    "class myclass():\n",
    "  def __len__(self):\n",
    "    return 0\n",
    "\n",
    "myobj = myclass()\n",
    "print(bool(myobj))"
   ]
  },
  {
   "cell_type": "markdown",
   "id": "80306148-8fac-4fa3-be10-cca3fd9cb91b",
   "metadata": {},
   "source": [
    "Example 8"
   ]
  },
  {
   "cell_type": "code",
   "execution_count": 23,
   "id": "c282eaab-55ad-450b-9b42-fa720a73d2e8",
   "metadata": {},
   "outputs": [
    {
     "name": "stdout",
     "output_type": "stream",
     "text": [
      "True\n"
     ]
    }
   ],
   "source": [
    "def myFunction() :\n",
    "  return True\n",
    "\n",
    "print(myFunction())"
   ]
  },
  {
   "cell_type": "markdown",
   "id": "4622c147-80f1-4725-b9c0-aec5be64ac85",
   "metadata": {},
   "source": [
    "Example 9"
   ]
  },
  {
   "cell_type": "code",
   "execution_count": 26,
   "id": "85ba8077-1011-47d5-9895-1fda89e3cdf0",
   "metadata": {},
   "outputs": [
    {
     "name": "stdout",
     "output_type": "stream",
     "text": [
      "YES!\n"
     ]
    }
   ],
   "source": [
    "def myFunction() :\n",
    "  return True\n",
    "\n",
    "if myFunction():\n",
    "  print(\"YES!\")\n",
    "else:\n",
    "  print(\"NO!\")"
   ]
  },
  {
   "cell_type": "markdown",
   "id": "44aeaf53-2af7-4960-baa3-e0d3d2d5e795",
   "metadata": {},
   "source": [
    "Example 10"
   ]
  },
  {
   "cell_type": "code",
   "execution_count": 29,
   "id": "250d522e-829d-4ebe-9e4b-ff8dbf82fe56",
   "metadata": {},
   "outputs": [
    {
     "name": "stdout",
     "output_type": "stream",
     "text": [
      "True\n"
     ]
    }
   ],
   "source": [
    "x = 200\n",
    "print(isinstance(x, int))"
   ]
  },
  {
   "cell_type": "markdown",
   "id": "1d6559c4-ade0-44e0-9d96-32b3454e916c",
   "metadata": {},
   "source": [
    "Example 11"
   ]
  },
  {
   "cell_type": "code",
   "execution_count": 32,
   "id": "b5faa826-e0d9-4673-a0ef-ca2da396c6bf",
   "metadata": {},
   "outputs": [
    {
     "name": "stdout",
     "output_type": "stream",
     "text": [
      "15\n"
     ]
    }
   ],
   "source": [
    "print(10 + 5)"
   ]
  },
  {
   "cell_type": "markdown",
   "id": "c7ba9cbf-7b73-4bab-bd94-d1165aa4ca5a",
   "metadata": {},
   "source": [
    "Example 12"
   ]
  },
  {
   "cell_type": "code",
   "execution_count": 35,
   "id": "6bd80347-749a-413a-8be7-2b0083a2ce4c",
   "metadata": {},
   "outputs": [
    {
     "name": "stdout",
     "output_type": "stream",
     "text": [
      "0\n"
     ]
    }
   ],
   "source": [
    "print((6 + 3) - (6 + 3))\n"
   ]
  },
  {
   "cell_type": "markdown",
   "id": "0f8b0549-eefb-4469-95f3-7ce4bc758413",
   "metadata": {},
   "source": [
    "Example 13"
   ]
  },
  {
   "cell_type": "code",
   "execution_count": 38,
   "id": "d874b52c-8f50-4643-9257-aeacbf498321",
   "metadata": {},
   "outputs": [
    {
     "name": "stdout",
     "output_type": "stream",
     "text": [
      "115\n"
     ]
    }
   ],
   "source": [
    "print(100 + 5 * 3)"
   ]
  },
  {
   "cell_type": "markdown",
   "id": "6468632c-a8f7-4ed7-a61c-98b732a19552",
   "metadata": {},
   "source": [
    "Example 14"
   ]
  },
  {
   "cell_type": "code",
   "execution_count": 41,
   "id": "7c9515ce-8553-4c05-a807-107d06ada7df",
   "metadata": {},
   "outputs": [
    {
     "name": "stdout",
     "output_type": "stream",
     "text": [
      "5\n"
     ]
    }
   ],
   "source": [
    "print(5 + 4 - 7 + 3)"
   ]
  },
  {
   "cell_type": "markdown",
   "id": "fa2b882c-7806-4361-ae5d-eb31be41816f",
   "metadata": {},
   "source": [
    "Example 15"
   ]
  },
  {
   "cell_type": "code",
   "execution_count": 44,
   "id": "ee5087eb-3f81-4412-a8b6-a8235e403ed7",
   "metadata": {},
   "outputs": [
    {
     "name": "stdout",
     "output_type": "stream",
     "text": [
      "['apple', 'banana', 'cherry']\n"
     ]
    }
   ],
   "source": [
    "thislist = [\"apple\", \"banana\", \"cherry\"]\n",
    "print(thislist)"
   ]
  },
  {
   "cell_type": "markdown",
   "id": "dad8b2f3-7816-4c14-838b-62c7ef52eece",
   "metadata": {},
   "source": [
    "Example 16"
   ]
  },
  {
   "cell_type": "code",
   "execution_count": 47,
   "id": "83a1b5c0-aec2-45af-813d-bfd37ccce19e",
   "metadata": {},
   "outputs": [
    {
     "name": "stdout",
     "output_type": "stream",
     "text": [
      "['apple', 'banana', 'cherry', 'apple', 'cherry']\n"
     ]
    }
   ],
   "source": [
    "thislist = [\"apple\", \"banana\", \"cherry\", \"apple\", \"cherry\"]\n",
    "print(thislist)"
   ]
  },
  {
   "cell_type": "markdown",
   "id": "b49f6165-becd-4527-a607-a7628eb8cdfa",
   "metadata": {},
   "source": [
    "Example 17"
   ]
  },
  {
   "cell_type": "code",
   "execution_count": 50,
   "id": "e5f300aa-2326-410f-8fec-ed1dd68bb9d4",
   "metadata": {},
   "outputs": [
    {
     "name": "stdout",
     "output_type": "stream",
     "text": [
      "3\n"
     ]
    }
   ],
   "source": [
    "thislist = [\"apple\", \"banana\", \"cherry\"]\n",
    "print(len(thislist))"
   ]
  },
  {
   "cell_type": "markdown",
   "id": "fef90841-189f-4364-b5c4-b8cb719174c0",
   "metadata": {},
   "source": [
    "Example 18"
   ]
  },
  {
   "cell_type": "code",
   "execution_count": 53,
   "id": "8e683e92-eeba-463a-8b11-218cf6361653",
   "metadata": {},
   "outputs": [],
   "source": [
    "list1 = [\"apple\", \"banana\", \"cherry\"]\n",
    "list2 = [1, 5, 7, 9, 3]\n",
    "list3 = [True, False, False]"
   ]
  },
  {
   "cell_type": "markdown",
   "id": "1eb0de91-291c-4f7a-9064-898ce3bfa8d1",
   "metadata": {},
   "source": [
    "Example 19"
   ]
  },
  {
   "cell_type": "code",
   "execution_count": 56,
   "id": "27ce46f1-24b1-4146-976b-218310388dd2",
   "metadata": {},
   "outputs": [],
   "source": [
    "list1 = [\"abc\", 34, True, 40, \"male\"]"
   ]
  },
  {
   "cell_type": "markdown",
   "id": "70860b8e-ebf9-4e25-b3f8-0e88e618a873",
   "metadata": {},
   "source": [
    "Example 20"
   ]
  },
  {
   "cell_type": "code",
   "execution_count": 59,
   "id": "f328c996-a7df-47ba-87b9-4c943d2cd605",
   "metadata": {},
   "outputs": [
    {
     "name": "stdout",
     "output_type": "stream",
     "text": [
      "<class 'list'>\n"
     ]
    }
   ],
   "source": [
    "mylist = [\"apple\", \"banana\", \"cherry\"]\n",
    "print(type(mylist))\n"
   ]
  },
  {
   "cell_type": "markdown",
   "id": "abe831ae-ca06-4418-bad5-5659198d40d0",
   "metadata": {},
   "source": [
    "Example 21"
   ]
  },
  {
   "cell_type": "code",
   "execution_count": 62,
   "id": "c402cb17-ec57-499a-81b2-a3b51d257118",
   "metadata": {},
   "outputs": [
    {
     "name": "stdout",
     "output_type": "stream",
     "text": [
      "['apple', 'banana', 'cherry']\n"
     ]
    }
   ],
   "source": [
    "thislist = list((\"apple\", \"banana\", \"cherry\")) # note the double round-brackets\n",
    "print(thislist)"
   ]
  },
  {
   "cell_type": "markdown",
   "id": "79ef0a24-a77b-4ae6-a616-aca7575a85fa",
   "metadata": {},
   "source": [
    "Example 22"
   ]
  },
  {
   "cell_type": "code",
   "execution_count": 65,
   "id": "87bc3d75-85ba-433e-9906-0ba31c31cca4",
   "metadata": {},
   "outputs": [
    {
     "name": "stdout",
     "output_type": "stream",
     "text": [
      "banana\n"
     ]
    }
   ],
   "source": [
    "thislist = [\"apple\", \"banana\", \"cherry\"]\n",
    "print(thislist[1])"
   ]
  },
  {
   "cell_type": "markdown",
   "id": "0839eb35-3779-4728-83a9-e88d9343bc8d",
   "metadata": {},
   "source": [
    "Example 23"
   ]
  },
  {
   "cell_type": "code",
   "execution_count": 68,
   "id": "8526462d-a633-4ff8-a97a-1d6da340beab",
   "metadata": {},
   "outputs": [
    {
     "name": "stdout",
     "output_type": "stream",
     "text": [
      "cherry\n"
     ]
    }
   ],
   "source": [
    "thislist = [\"apple\", \"banana\", \"cherry\"]\n",
    "print(thislist[-1])"
   ]
  },
  {
   "cell_type": "markdown",
   "id": "860d93ce-28e4-486f-8a9d-2bbd1583bf60",
   "metadata": {},
   "source": [
    "Example 24"
   ]
  },
  {
   "cell_type": "code",
   "execution_count": 71,
   "id": "33e25385-54b0-4e1b-b44a-2457bde2b0bf",
   "metadata": {},
   "outputs": [
    {
     "name": "stdout",
     "output_type": "stream",
     "text": [
      "['cherry', 'orange', 'kiwi']\n"
     ]
    }
   ],
   "source": [
    "thislist = [\"apple\", \"banana\", \"cherry\", \"orange\", \"kiwi\", \"melon\", \"mango\"]\n",
    "print(thislist[2:5])"
   ]
  },
  {
   "cell_type": "markdown",
   "id": "c9594445-0deb-4564-95eb-b1a97a1abaa2",
   "metadata": {},
   "source": [
    "Example 25"
   ]
  },
  {
   "cell_type": "code",
   "execution_count": 74,
   "id": "1ce9b038-0d2d-4c5d-bc06-b26571f9d408",
   "metadata": {},
   "outputs": [
    {
     "name": "stdout",
     "output_type": "stream",
     "text": [
      "['apple', 'banana', 'cherry', 'orange']\n"
     ]
    }
   ],
   "source": [
    "thislist = [\"apple\", \"banana\", \"cherry\", \"orange\", \"kiwi\", \"melon\", \"mango\"]\n",
    "print(thislist[:4])"
   ]
  },
  {
   "cell_type": "markdown",
   "id": "684fe717-15fa-4d11-9162-d53aef07ed3f",
   "metadata": {},
   "source": [
    "Example 26"
   ]
  },
  {
   "cell_type": "code",
   "execution_count": 77,
   "id": "b650878c-92b1-475f-9c7d-4263b5f5d410",
   "metadata": {},
   "outputs": [
    {
     "name": "stdout",
     "output_type": "stream",
     "text": [
      "['cherry', 'orange', 'kiwi', 'melon', 'mango']\n"
     ]
    }
   ],
   "source": [
    "thislist = [\"apple\", \"banana\", \"cherry\", \"orange\", \"kiwi\", \"melon\", \"mango\"]\n",
    "print(thislist[2:])"
   ]
  },
  {
   "cell_type": "markdown",
   "id": "1d850b44-208d-4c7a-96a8-6357a28d77de",
   "metadata": {},
   "source": [
    "Example 27"
   ]
  },
  {
   "cell_type": "code",
   "execution_count": 80,
   "id": "572ca4ea-8c0f-4c8a-a264-469e752ec0d4",
   "metadata": {},
   "outputs": [
    {
     "name": "stdout",
     "output_type": "stream",
     "text": [
      "['orange', 'kiwi', 'melon']\n"
     ]
    }
   ],
   "source": [
    "thislist = [\"apple\", \"banana\", \"cherry\", \"orange\", \"kiwi\", \"melon\", \"mango\"]\n",
    "print(thislist[-4:-1])"
   ]
  },
  {
   "cell_type": "markdown",
   "id": "0254591a-077e-4712-b528-35b5210f04e1",
   "metadata": {},
   "source": [
    "Example 28"
   ]
  },
  {
   "cell_type": "code",
   "execution_count": 83,
   "id": "ed2d5fe3-e8a1-489a-987b-76e6e229d6ad",
   "metadata": {},
   "outputs": [
    {
     "name": "stdout",
     "output_type": "stream",
     "text": [
      "Yes, 'apple' is in the fruits list\n"
     ]
    }
   ],
   "source": [
    "thislist = [\"apple\", \"banana\", \"cherry\"]\n",
    "if \"apple\" in thislist:\n",
    "  print(\"Yes, 'apple' is in the fruits list\")"
   ]
  },
  {
   "cell_type": "markdown",
   "id": "2734c520-73e8-48e0-a978-9135136136ac",
   "metadata": {},
   "source": [
    "Example 29"
   ]
  },
  {
   "cell_type": "code",
   "execution_count": 86,
   "id": "99b4a22d-5de8-447b-80da-b1bd24db7839",
   "metadata": {},
   "outputs": [
    {
     "name": "stdout",
     "output_type": "stream",
     "text": [
      "['apple', 'blackcurrant', 'cherry']\n"
     ]
    }
   ],
   "source": [
    "thislist = [\"apple\", \"banana\", \"cherry\"]\n",
    "thislist[1] = \"blackcurrant\"\n",
    "print(thislist)"
   ]
  },
  {
   "cell_type": "markdown",
   "id": "2310d2c5-50f2-4c94-9c8e-83eca75c20f0",
   "metadata": {},
   "source": [
    "Example 30"
   ]
  },
  {
   "cell_type": "code",
   "execution_count": 89,
   "id": "942a47d3-cfc0-4aac-84ad-abad75faf1c0",
   "metadata": {},
   "outputs": [
    {
     "name": "stdout",
     "output_type": "stream",
     "text": [
      "['apple', 'blackcurrant', 'watermelon', 'orange', 'kiwi', 'mango']\n"
     ]
    }
   ],
   "source": [
    "thislist = [\"apple\", \"banana\", \"cherry\", \"orange\", \"kiwi\", \"mango\"]\n",
    "thislist[1:3] = [\"blackcurrant\", \"watermelon\"]\n",
    "print(thislist)"
   ]
  },
  {
   "cell_type": "markdown",
   "id": "799ff9c5-da21-4434-beb7-9e00721aa26a",
   "metadata": {},
   "source": [
    "Example 31"
   ]
  },
  {
   "cell_type": "code",
   "execution_count": 92,
   "id": "72cbb3c4-a776-4086-886a-40b68a711706",
   "metadata": {},
   "outputs": [
    {
     "name": "stdout",
     "output_type": "stream",
     "text": [
      "['apple', 'blackcurrant', 'watermelon', 'cherry']\n"
     ]
    }
   ],
   "source": [
    "thislist = [\"apple\", \"banana\", \"cherry\"]\n",
    "thislist[1:2] = [\"blackcurrant\", \"watermelon\"]\n",
    "print(thislist)"
   ]
  },
  {
   "cell_type": "markdown",
   "id": "2c10a800-54c4-45fb-ba12-6fa38961e5ef",
   "metadata": {},
   "source": [
    "Example 32"
   ]
  },
  {
   "cell_type": "code",
   "execution_count": 95,
   "id": "eafbf4a1-fe9d-408f-b9e3-c03bca8020f2",
   "metadata": {},
   "outputs": [
    {
     "name": "stdout",
     "output_type": "stream",
     "text": [
      "['apple', 'watermelon']\n"
     ]
    }
   ],
   "source": [
    "thislist = [\"apple\", \"banana\", \"cherry\"]\n",
    "thislist[1:3] = [\"watermelon\"]\n",
    "print(thislist)"
   ]
  },
  {
   "cell_type": "markdown",
   "id": "b6744125-e79d-4ccd-b7a4-3aee8dc24cfb",
   "metadata": {},
   "source": [
    "Example 33"
   ]
  },
  {
   "cell_type": "code",
   "execution_count": 98,
   "id": "33f2b378-2e4a-4fe6-8122-ee6d58e7e1b8",
   "metadata": {},
   "outputs": [
    {
     "name": "stdout",
     "output_type": "stream",
     "text": [
      "['apple', 'banana', 'watermelon', 'cherry']\n"
     ]
    }
   ],
   "source": [
    "thislist = [\"apple\", \"banana\", \"cherry\"]\n",
    "thislist.insert(2, \"watermelon\")\n",
    "print(thislist)"
   ]
  },
  {
   "cell_type": "markdown",
   "id": "6596efb4-6c9b-45c1-bf6c-2176f2d3cb31",
   "metadata": {},
   "source": [
    "Example 34"
   ]
  },
  {
   "cell_type": "code",
   "execution_count": 101,
   "id": "8159ff22-f95b-4ffe-bd9c-19e82bfcad21",
   "metadata": {},
   "outputs": [
    {
     "name": "stdout",
     "output_type": "stream",
     "text": [
      "['apple', 'banana', 'cherry', 'orange']\n"
     ]
    }
   ],
   "source": [
    "thislist = [\"apple\", \"banana\", \"cherry\"]\n",
    "thislist.append(\"orange\")\n",
    "print(thislist)"
   ]
  },
  {
   "cell_type": "markdown",
   "id": "0f9770bd-64ee-48a1-99ca-3355beae8e5d",
   "metadata": {},
   "source": [
    "Example 35"
   ]
  },
  {
   "cell_type": "code",
   "execution_count": 104,
   "id": "9734ea8e-dedf-41a8-a27f-af465457ab92",
   "metadata": {},
   "outputs": [
    {
     "name": "stdout",
     "output_type": "stream",
     "text": [
      "['apple', 'orange', 'banana', 'cherry']\n"
     ]
    }
   ],
   "source": [
    "thislist = [\"apple\", \"banana\", \"cherry\"]\n",
    "thislist.insert(1, \"orange\")\n",
    "print(thislist)"
   ]
  },
  {
   "cell_type": "markdown",
   "id": "00fbc321-b1e4-4cb4-91ff-cd96d2b4f802",
   "metadata": {},
   "source": [
    "Example 36"
   ]
  },
  {
   "cell_type": "code",
   "execution_count": 107,
   "id": "b731cc0b-90a1-47e9-96d2-7a060056a568",
   "metadata": {},
   "outputs": [
    {
     "name": "stdout",
     "output_type": "stream",
     "text": [
      "['apple', 'banana', 'cherry', 'mango', 'pineapple', 'papaya']\n"
     ]
    }
   ],
   "source": [
    "thislist = [\"apple\", \"banana\", \"cherry\"]\n",
    "tropical = [\"mango\", \"pineapple\", \"papaya\"]\n",
    "thislist.extend(tropical)\n",
    "print(thislist)"
   ]
  },
  {
   "cell_type": "markdown",
   "id": "16829b82-adfd-48a2-845a-b418898cc24c",
   "metadata": {},
   "source": [
    "Example 37"
   ]
  },
  {
   "cell_type": "code",
   "execution_count": 110,
   "id": "548cbcee-09a8-4ec0-bacf-492db9e40de1",
   "metadata": {},
   "outputs": [
    {
     "name": "stdout",
     "output_type": "stream",
     "text": [
      "['apple', 'banana', 'cherry', 'kiwi', 'orange']\n"
     ]
    }
   ],
   "source": [
    "thislist = [\"apple\", \"banana\", \"cherry\"]\n",
    "thistuple = (\"kiwi\", \"orange\")\n",
    "thislist.extend(thistuple)\n",
    "print(thislist)"
   ]
  },
  {
   "cell_type": "markdown",
   "id": "64ca1e74-cdb9-4523-af9b-fe6e985abeaa",
   "metadata": {},
   "source": [
    "Example 38"
   ]
  },
  {
   "cell_type": "code",
   "execution_count": 113,
   "id": "53326388-4928-40b8-bd38-7f9beb4be545",
   "metadata": {},
   "outputs": [
    {
     "name": "stdout",
     "output_type": "stream",
     "text": [
      "['apple', 'cherry']\n"
     ]
    }
   ],
   "source": [
    "thislist = [\"apple\", \"banana\", \"cherry\"]\n",
    "thislist.remove(\"banana\")\n",
    "print(thislist)"
   ]
  },
  {
   "cell_type": "markdown",
   "id": "575a1c25-7d4c-46ee-874f-54a1d8765d43",
   "metadata": {},
   "source": [
    "Example 39"
   ]
  },
  {
   "cell_type": "code",
   "execution_count": 116,
   "id": "ab62902f-9b65-4e10-81b4-489f4483ea04",
   "metadata": {},
   "outputs": [
    {
     "name": "stdout",
     "output_type": "stream",
     "text": [
      "['apple', 'cherry', 'banana', 'kiwi']\n"
     ]
    }
   ],
   "source": [
    "thislist = [\"apple\", \"banana\", \"cherry\", \"banana\", \"kiwi\"]\n",
    "thislist.remove(\"banana\")\n",
    "print(thislist)"
   ]
  },
  {
   "cell_type": "markdown",
   "id": "c9b3fe35-7358-44d0-a5c8-5308088650b6",
   "metadata": {},
   "source": [
    "Example 40"
   ]
  },
  {
   "cell_type": "code",
   "execution_count": 118,
   "id": "601d9192-1ef4-4d80-803c-977abfd2251b",
   "metadata": {},
   "outputs": [
    {
     "name": "stdout",
     "output_type": "stream",
     "text": [
      "['apple', 'cherry']\n"
     ]
    }
   ],
   "source": [
    "thislist = [\"apple\", \"banana\", \"cherry\"]\n",
    "thislist.pop(1)\n",
    "print(thislist)"
   ]
  },
  {
   "cell_type": "markdown",
   "id": "23e290ae-831a-4a7c-a8bd-9b6b2c0f61d3",
   "metadata": {},
   "source": [
    "Example 41"
   ]
  },
  {
   "cell_type": "code",
   "execution_count": 122,
   "id": "e816258c-007b-4140-aca4-648c9808edfb",
   "metadata": {},
   "outputs": [
    {
     "name": "stdout",
     "output_type": "stream",
     "text": [
      "['apple', 'banana']\n"
     ]
    }
   ],
   "source": [
    "thislist = [\"apple\", \"banana\", \"cherry\"]\n",
    "thislist.pop()\n",
    "print(thislist)"
   ]
  },
  {
   "cell_type": "markdown",
   "id": "bc035232-0b94-495e-8486-11d124d06c1a",
   "metadata": {},
   "source": [
    "Example 42"
   ]
  },
  {
   "cell_type": "code",
   "execution_count": 125,
   "id": "9bd54f5b-553b-43cc-b163-adb483237496",
   "metadata": {},
   "outputs": [
    {
     "name": "stdout",
     "output_type": "stream",
     "text": [
      "['banana', 'cherry']\n"
     ]
    }
   ],
   "source": [
    "thislist = [\"apple\", \"banana\", \"cherry\"]\n",
    "del thislist[0]\n",
    "print(thislist)"
   ]
  },
  {
   "cell_type": "markdown",
   "id": "0eab6984-c445-4dc5-b1c0-33b4fc1539f6",
   "metadata": {},
   "source": [
    "Example 43"
   ]
  },
  {
   "cell_type": "code",
   "execution_count": 128,
   "id": "61779fe1-7561-4ca9-938d-663647af8157",
   "metadata": {},
   "outputs": [],
   "source": [
    "thislist = [\"apple\", \"banana\", \"cherry\"]\n",
    "del thislist"
   ]
  },
  {
   "cell_type": "markdown",
   "id": "7cd9f1c1-b40b-4787-a317-18c4a2e7e334",
   "metadata": {},
   "source": [
    "Example 44"
   ]
  },
  {
   "cell_type": "code",
   "execution_count": 131,
   "id": "c42574b4-532b-4159-91cf-fbeff18964cf",
   "metadata": {},
   "outputs": [
    {
     "name": "stdout",
     "output_type": "stream",
     "text": [
      "[]\n"
     ]
    }
   ],
   "source": [
    "thislist = [\"apple\", \"banana\", \"cherry\"]\n",
    "thislist.clear()\n",
    "print(thislist)"
   ]
  },
  {
   "cell_type": "markdown",
   "id": "755bd9f2-ce0b-4f62-aa41-5c8eaa9cf38e",
   "metadata": {},
   "source": [
    "Example 45"
   ]
  },
  {
   "cell_type": "code",
   "execution_count": 134,
   "id": "75f58d1f-ea84-40a5-a882-eeca9e20b9b4",
   "metadata": {},
   "outputs": [
    {
     "name": "stdout",
     "output_type": "stream",
     "text": [
      "apple\n",
      "banana\n",
      "cherry\n"
     ]
    }
   ],
   "source": [
    "thislist = [\"apple\", \"banana\", \"cherry\"]\n",
    "for x in thislist:\n",
    "  print(x)"
   ]
  },
  {
   "cell_type": "markdown",
   "id": "011a563a-4c59-469a-af4d-49720a13cd27",
   "metadata": {},
   "source": [
    "Example 46"
   ]
  },
  {
   "cell_type": "code",
   "execution_count": 137,
   "id": "8d51a5dd-899c-48e9-95ea-37f0a95f90cd",
   "metadata": {},
   "outputs": [
    {
     "name": "stdout",
     "output_type": "stream",
     "text": [
      "apple\n",
      "banana\n",
      "cherry\n"
     ]
    }
   ],
   "source": [
    "thislist = [\"apple\", \"banana\", \"cherry\"]\n",
    "for i in range(len(thislist)):\n",
    "  print(thislist[i])"
   ]
  },
  {
   "cell_type": "markdown",
   "id": "0c0db8e0-7a50-40a0-a493-2feeabcb0e36",
   "metadata": {},
   "source": [
    "Example 47\n"
   ]
  },
  {
   "cell_type": "code",
   "execution_count": 140,
   "id": "4f1feca2-836e-457f-9a79-3d2b59383162",
   "metadata": {},
   "outputs": [
    {
     "name": "stdout",
     "output_type": "stream",
     "text": [
      "apple\n",
      "banana\n",
      "cherry\n"
     ]
    }
   ],
   "source": [
    "thislist = [\"apple\", \"banana\", \"cherry\"]\n",
    "i = 0\n",
    "while i < len(thislist):\n",
    "  print(thislist[i])\n",
    "  i = i + 1"
   ]
  },
  {
   "cell_type": "markdown",
   "id": "5b31abf2-2b63-4bbe-9f71-4c79b0ac1905",
   "metadata": {},
   "source": [
    "Example 48"
   ]
  },
  {
   "cell_type": "code",
   "execution_count": 143,
   "id": "843650eb-7039-4797-bd8d-4dfe625a17f9",
   "metadata": {},
   "outputs": [
    {
     "name": "stdout",
     "output_type": "stream",
     "text": [
      "apple\n",
      "banana\n",
      "cherry\n"
     ]
    },
    {
     "data": {
      "text/plain": [
       "[None, None, None]"
      ]
     },
     "execution_count": 143,
     "metadata": {},
     "output_type": "execute_result"
    }
   ],
   "source": [
    "thislist = [\"apple\", \"banana\", \"cherry\"]\n",
    "[print(x) for x in thislist]"
   ]
  },
  {
   "cell_type": "markdown",
   "id": "ecbe22d3-4919-4b1f-8f6b-ef12a90bb846",
   "metadata": {},
   "source": [
    "Example 49"
   ]
  },
  {
   "cell_type": "code",
   "execution_count": 146,
   "id": "a0dc5166-9d26-42d6-82fe-6b0801d22cb3",
   "metadata": {},
   "outputs": [
    {
     "name": "stdout",
     "output_type": "stream",
     "text": [
      "['apple', 'banana', 'mango']\n"
     ]
    }
   ],
   "source": [
    "fruits = [\"apple\", \"banana\", \"cherry\", \"kiwi\", \"mango\"]\n",
    "newlist = []\n",
    "\n",
    "for x in fruits:\n",
    "  if \"a\" in x:\n",
    "    newlist.append(x)\n",
    "\n",
    "print(newlist)"
   ]
  },
  {
   "cell_type": "markdown",
   "id": "68107562-63bb-469b-bd8a-85c69be56667",
   "metadata": {},
   "source": [
    "Example 50"
   ]
  },
  {
   "cell_type": "code",
   "execution_count": 149,
   "id": "dff5b041-f3b5-4134-8e4e-9e9b77e96cf4",
   "metadata": {},
   "outputs": [
    {
     "name": "stdout",
     "output_type": "stream",
     "text": [
      "['apple', 'banana', 'mango']\n"
     ]
    }
   ],
   "source": [
    "fruits = [\"apple\", \"banana\", \"cherry\", \"kiwi\", \"mango\"]\n",
    "\n",
    "newlist = [x for x in fruits if \"a\" in x]\n",
    "\n",
    "print(newlist)"
   ]
  },
  {
   "cell_type": "markdown",
   "id": "0800fb17-1776-4542-a7a7-e7acc4799824",
   "metadata": {},
   "source": [
    "Example 51"
   ]
  },
  {
   "cell_type": "code",
   "execution_count": 152,
   "id": "6c4475b8-f29c-4294-88d0-f937f0a795fa",
   "metadata": {},
   "outputs": [],
   "source": [
    "newlist = [x for x in fruits if x != \"apple\"]"
   ]
  },
  {
   "cell_type": "markdown",
   "id": "0f9436bd-7f42-4f16-9aaa-fa31b44062b4",
   "metadata": {},
   "source": [
    "Example 52"
   ]
  },
  {
   "cell_type": "code",
   "execution_count": 155,
   "id": "1821a6c4-6e56-44e5-9547-7f744af917af",
   "metadata": {},
   "outputs": [],
   "source": [
    "newlist = [x for x in fruits]"
   ]
  },
  {
   "cell_type": "markdown",
   "id": "6a74b8e7-2394-42df-af32-c9422f3da8b1",
   "metadata": {},
   "source": [
    "Example 53"
   ]
  },
  {
   "cell_type": "code",
   "execution_count": 158,
   "id": "8ec6e55b-73f8-473b-969c-b600ab145555",
   "metadata": {},
   "outputs": [],
   "source": [
    "newlist = [x for x in range(10)]"
   ]
  },
  {
   "cell_type": "markdown",
   "id": "44ea6cad-ae1b-4a1c-8ef2-3288ccb6a537",
   "metadata": {},
   "source": [
    "Example 54"
   ]
  },
  {
   "cell_type": "code",
   "execution_count": 161,
   "id": "c5132527-757e-4dbf-b664-a3bf4935ae72",
   "metadata": {},
   "outputs": [],
   "source": [
    "newlist = [x for x in range(10) if x < 5]"
   ]
  },
  {
   "cell_type": "markdown",
   "id": "ab7acf0e-4f7e-45a1-bbd8-eb22d4847465",
   "metadata": {},
   "source": [
    "Example 55"
   ]
  },
  {
   "cell_type": "code",
   "execution_count": 164,
   "id": "d26ceecd-bfbf-447b-8489-2fad97d4cd77",
   "metadata": {},
   "outputs": [],
   "source": [
    "newlist = [x.upper() for x in fruits]"
   ]
  },
  {
   "cell_type": "markdown",
   "id": "82d81636-b72a-456c-816c-19febe673485",
   "metadata": {},
   "source": [
    "Example 56"
   ]
  },
  {
   "cell_type": "code",
   "execution_count": 167,
   "id": "4aac84a2-da70-4665-a037-b52d9d4f58e7",
   "metadata": {},
   "outputs": [],
   "source": [
    "newlist = ['hello' for x in fruits]"
   ]
  },
  {
   "cell_type": "markdown",
   "id": "51921b06-0417-4477-bd40-a3b5f51a7e47",
   "metadata": {},
   "source": [
    "Example 57"
   ]
  },
  {
   "cell_type": "code",
   "execution_count": 170,
   "id": "de5daf8a-ab89-446e-98fe-67a8a8681013",
   "metadata": {},
   "outputs": [],
   "source": [
    "newlist = [x if x != \"banana\" else \"orange\" for x in fruits]"
   ]
  },
  {
   "cell_type": "markdown",
   "id": "824edf7e-de43-4a86-ba72-5a67d99cb2a9",
   "metadata": {},
   "source": [
    "Example 58"
   ]
  },
  {
   "cell_type": "code",
   "execution_count": 174,
   "id": "e793c8b4-4380-425d-a374-7e3babc1619e",
   "metadata": {},
   "outputs": [
    {
     "name": "stdout",
     "output_type": "stream",
     "text": [
      "['banana', 'kiwi', 'mango', 'orange', 'pineapple']\n"
     ]
    }
   ],
   "source": [
    "thislist = [\"orange\", \"mango\", \"kiwi\", \"pineapple\", \"banana\"]\n",
    "thislist.sort()\n",
    "print(thislist)"
   ]
  },
  {
   "cell_type": "markdown",
   "id": "7bb60977-0018-480b-ab54-52d52ae6e9ab",
   "metadata": {},
   "source": [
    "Example 59"
   ]
  },
  {
   "cell_type": "code",
   "execution_count": 177,
   "id": "7a2ae03a-f248-4872-92aa-8e9d9ba7f0ca",
   "metadata": {},
   "outputs": [
    {
     "name": "stdout",
     "output_type": "stream",
     "text": [
      "[23, 50, 65, 82, 100]\n"
     ]
    }
   ],
   "source": [
    "thislist = [100, 50, 65, 82, 23]\n",
    "thislist.sort()\n",
    "print(thislist)"
   ]
  },
  {
   "cell_type": "markdown",
   "id": "d2a1fa6f-06eb-49bb-bf68-da190f344d28",
   "metadata": {},
   "source": [
    "Example 60"
   ]
  },
  {
   "cell_type": "code",
   "execution_count": 180,
   "id": "aa09d58f-01d7-494d-9168-30214b74f35b",
   "metadata": {},
   "outputs": [
    {
     "name": "stdout",
     "output_type": "stream",
     "text": [
      "['pineapple', 'orange', 'mango', 'kiwi', 'banana']\n"
     ]
    }
   ],
   "source": [
    "thislist = [\"orange\", \"mango\", \"kiwi\", \"pineapple\", \"banana\"]\n",
    "thislist.sort(reverse = True)\n",
    "print(thislist)"
   ]
  },
  {
   "cell_type": "markdown",
   "id": "b5d56216-f43f-43c0-90d0-037fbc3af707",
   "metadata": {},
   "source": [
    "Example 61"
   ]
  },
  {
   "cell_type": "code",
   "execution_count": 183,
   "id": "577f716a-07c7-404b-85e3-3b0c69354996",
   "metadata": {},
   "outputs": [
    {
     "name": "stdout",
     "output_type": "stream",
     "text": [
      "[100, 82, 65, 50, 23]\n"
     ]
    }
   ],
   "source": [
    "thislist = [100, 50, 65, 82, 23]\n",
    "thislist.sort(reverse = True)\n",
    "print(thislist)"
   ]
  },
  {
   "cell_type": "markdown",
   "id": "e17d1422-6a8f-454a-a141-75478c09c26e",
   "metadata": {},
   "source": [
    "Example 62"
   ]
  },
  {
   "cell_type": "code",
   "execution_count": 186,
   "id": "35389d44-c837-41c0-ab0f-6909359a7f0c",
   "metadata": {},
   "outputs": [
    {
     "name": "stdout",
     "output_type": "stream",
     "text": [
      "[50, 65, 23, 82, 100]\n"
     ]
    }
   ],
   "source": [
    "def myfunc(n):\n",
    "  return abs(n - 50)\n",
    "\n",
    "thislist = [100, 50, 65, 82, 23]\n",
    "thislist.sort(key = myfunc)\n",
    "print(thislist)"
   ]
  },
  {
   "cell_type": "markdown",
   "id": "ec76781a-08c0-4b70-a055-7a114f92b278",
   "metadata": {},
   "source": [
    "Example 63"
   ]
  },
  {
   "cell_type": "code",
   "execution_count": 189,
   "id": "7e55c83b-d36c-4fe1-acc7-3e85dd74cd65",
   "metadata": {},
   "outputs": [
    {
     "name": "stdout",
     "output_type": "stream",
     "text": [
      "['Kiwi', 'Orange', 'banana', 'cherry']\n"
     ]
    }
   ],
   "source": [
    "thislist = [\"banana\", \"Orange\", \"Kiwi\", \"cherry\"]\n",
    "thislist.sort()\n",
    "print(thislist)"
   ]
  },
  {
   "cell_type": "markdown",
   "id": "8187838b-6baf-4bc3-80c5-4ba3a61f14df",
   "metadata": {},
   "source": [
    "Example 64"
   ]
  },
  {
   "cell_type": "code",
   "execution_count": 193,
   "id": "b41dc499-87b2-42c4-b83e-c7f969f011ca",
   "metadata": {},
   "outputs": [
    {
     "name": "stdout",
     "output_type": "stream",
     "text": [
      "['banana', 'cherry', 'Kiwi', 'Orange']\n"
     ]
    }
   ],
   "source": [
    "thislist = [\"banana\", \"Orange\", \"Kiwi\", \"cherry\"]\n",
    "thislist.sort(key = str.lower)\n",
    "print(thislist)"
   ]
  },
  {
   "cell_type": "markdown",
   "id": "aa5f01e3-0ffa-4972-b10f-2c414354793a",
   "metadata": {},
   "source": [
    "Example 65"
   ]
  },
  {
   "cell_type": "code",
   "execution_count": 196,
   "id": "b0a11929-7992-4766-94d9-8291e7d42dd8",
   "metadata": {},
   "outputs": [
    {
     "name": "stdout",
     "output_type": "stream",
     "text": [
      "['cherry', 'Kiwi', 'Orange', 'banana']\n"
     ]
    }
   ],
   "source": [
    "thislist = [\"banana\", \"Orange\", \"Kiwi\", \"cherry\"]\n",
    "thislist.reverse()\n",
    "print(thislist)"
   ]
  },
  {
   "cell_type": "markdown",
   "id": "e024f7e7-a493-45b6-b9b1-fbede2091065",
   "metadata": {},
   "source": [
    "Example 66"
   ]
  },
  {
   "cell_type": "code",
   "execution_count": 199,
   "id": "5cedf3f3-994c-4e35-a242-cb196c2b0747",
   "metadata": {},
   "outputs": [
    {
     "name": "stdout",
     "output_type": "stream",
     "text": [
      "['apple', 'banana', 'cherry']\n"
     ]
    }
   ],
   "source": [
    "thislist = [\"apple\", \"banana\", \"cherry\"]\n",
    "mylist = thislist.copy()\n",
    "print(mylist)"
   ]
  },
  {
   "cell_type": "markdown",
   "id": "f529e0dd-392b-4c69-80d8-d02f0c5b3eca",
   "metadata": {},
   "source": [
    "Example 67"
   ]
  },
  {
   "cell_type": "code",
   "execution_count": 202,
   "id": "91d9f351-f94a-42ad-b16d-4327f70ac1d1",
   "metadata": {},
   "outputs": [
    {
     "name": "stdout",
     "output_type": "stream",
     "text": [
      "['apple', 'banana', 'cherry']\n"
     ]
    }
   ],
   "source": [
    "thislist = [\"apple\", \"banana\", \"cherry\"]\n",
    "mylist = list(thislist)\n",
    "print(mylist)"
   ]
  },
  {
   "cell_type": "markdown",
   "id": "7ff7f466-dafd-4457-b260-8ec9a393b2fb",
   "metadata": {},
   "source": [
    "Example 68"
   ]
  },
  {
   "cell_type": "code",
   "execution_count": 205,
   "id": "977743e7-ee46-47dc-97cd-9ffa38ad0548",
   "metadata": {},
   "outputs": [
    {
     "name": "stdout",
     "output_type": "stream",
     "text": [
      "['apple', 'banana', 'cherry']\n"
     ]
    }
   ],
   "source": [
    "thislist = [\"apple\", \"banana\", \"cherry\"]\n",
    "mylist = thislist[:]\n",
    "print(mylist)"
   ]
  },
  {
   "cell_type": "markdown",
   "id": "4db4804f-713b-4aac-a23c-b91f9e2a96c0",
   "metadata": {},
   "source": [
    "Example 69"
   ]
  },
  {
   "cell_type": "code",
   "execution_count": 208,
   "id": "91a1d4c7-9fcb-4c7c-a24a-b82d37c7e821",
   "metadata": {},
   "outputs": [
    {
     "name": "stdout",
     "output_type": "stream",
     "text": [
      "['a', 'b', 'c', 1, 2, 3]\n"
     ]
    }
   ],
   "source": [
    "list1 = [\"a\", \"b\", \"c\"]\n",
    "list2 = [1, 2, 3]\n",
    "\n",
    "list3 = list1 + list2\n",
    "print(list3)"
   ]
  },
  {
   "cell_type": "markdown",
   "id": "7d841cb9-0474-4e0a-ae26-4120c357f5b7",
   "metadata": {},
   "source": [
    "Example 70"
   ]
  },
  {
   "cell_type": "code",
   "execution_count": 211,
   "id": "1a834f7e-fea3-4528-a98a-260ebfea6f2d",
   "metadata": {},
   "outputs": [
    {
     "name": "stdout",
     "output_type": "stream",
     "text": [
      "['a', 'b', 'c', 1, 2, 3]\n"
     ]
    }
   ],
   "source": [
    "list1 = [\"a\", \"b\" , \"c\"]\n",
    "list2 = [1, 2, 3]\n",
    "\n",
    "for x in list2:\n",
    "  list1.append(x)\n",
    "\n",
    "print(list1)"
   ]
  },
  {
   "cell_type": "markdown",
   "id": "6acbbcde-cddc-4bae-83da-d63fae3c7a72",
   "metadata": {},
   "source": [
    "Example 71"
   ]
  },
  {
   "cell_type": "code",
   "execution_count": 214,
   "id": "0e74971d-6031-4896-9ad2-694a209ad2ce",
   "metadata": {},
   "outputs": [
    {
     "name": "stdout",
     "output_type": "stream",
     "text": [
      "['a', 'b', 'c', 1, 2, 3]\n"
     ]
    }
   ],
   "source": [
    "list1 = [\"a\", \"b\" , \"c\"]\n",
    "list2 = [1, 2, 3]\n",
    "\n",
    "list1.extend(list2)\n",
    "print(list1)"
   ]
  },
  {
   "cell_type": "markdown",
   "id": "5b93eec4-0d02-4f5e-9e48-0b946c67bad6",
   "metadata": {},
   "source": [
    "Example 72"
   ]
  },
  {
   "cell_type": "code",
   "execution_count": 217,
   "id": "b11cdbc4-dcb0-44f7-bf47-32f657f79bbb",
   "metadata": {},
   "outputs": [
    {
     "name": "stdout",
     "output_type": "stream",
     "text": [
      "('apple', 'banana', 'cherry')\n"
     ]
    }
   ],
   "source": [
    "thistuple = (\"apple\", \"banana\", \"cherry\")\n",
    "print(thistuple)"
   ]
  },
  {
   "cell_type": "markdown",
   "id": "a8e00923-caf9-44df-86f1-56e0b6563c7b",
   "metadata": {},
   "source": [
    "Example 73"
   ]
  },
  {
   "cell_type": "code",
   "execution_count": 220,
   "id": "45fa56e0-02c6-4238-9a2f-0fda873d600d",
   "metadata": {},
   "outputs": [
    {
     "name": "stdout",
     "output_type": "stream",
     "text": [
      "('apple', 'banana', 'cherry', 'apple', 'cherry')\n"
     ]
    }
   ],
   "source": [
    "thistuple = (\"apple\", \"banana\", \"cherry\", \"apple\", \"cherry\")\n",
    "print(thistuple)"
   ]
  },
  {
   "cell_type": "markdown",
   "id": "5230e199-b57f-4322-9b4b-736d68354f3a",
   "metadata": {},
   "source": [
    "Example 74"
   ]
  },
  {
   "cell_type": "code",
   "execution_count": 223,
   "id": "87277bd6-9e34-4207-af45-1fdd9f403bfa",
   "metadata": {},
   "outputs": [
    {
     "name": "stdout",
     "output_type": "stream",
     "text": [
      "3\n"
     ]
    }
   ],
   "source": [
    "thistuple = (\"apple\", \"banana\", \"cherry\")\n",
    "print(len(thistuple))"
   ]
  },
  {
   "cell_type": "markdown",
   "id": "ffbfc9a7-07e8-41d7-b2b2-43d1f655879f",
   "metadata": {},
   "source": [
    "Example 75"
   ]
  },
  {
   "cell_type": "code",
   "execution_count": 226,
   "id": "2ecf64f3-bb2e-4384-bc50-a85a43b7868c",
   "metadata": {},
   "outputs": [
    {
     "name": "stdout",
     "output_type": "stream",
     "text": [
      "<class 'tuple'>\n",
      "<class 'str'>\n"
     ]
    }
   ],
   "source": [
    "thistuple = (\"apple\",)\n",
    "print(type(thistuple))\n",
    "\n",
    "#NOT a tuple\n",
    "thistuple = (\"apple\")\n",
    "print(type(thistuple))"
   ]
  },
  {
   "cell_type": "markdown",
   "id": "e83ef798-b8b6-46a9-9bde-da6a97e184db",
   "metadata": {},
   "source": [
    "Example 76"
   ]
  },
  {
   "cell_type": "code",
   "execution_count": 229,
   "id": "3dd9e485-8910-4e71-b152-cf6308015161",
   "metadata": {},
   "outputs": [],
   "source": [
    "tuple1 = (\"apple\", \"banana\", \"cherry\")\n",
    "tuple2 = (1, 5, 7, 9, 3)\n",
    "tuple3 = (True, False, False)"
   ]
  },
  {
   "cell_type": "markdown",
   "id": "850bbb1b-cff0-4e39-b561-c7085f8f0d2c",
   "metadata": {},
   "source": [
    "Example 77"
   ]
  },
  {
   "cell_type": "code",
   "execution_count": 232,
   "id": "a145c764-d072-41d4-a5cc-2a02a73ff2b2",
   "metadata": {},
   "outputs": [],
   "source": [
    "tuple1 = (\"abc\", 34, True, 40, \"male\")"
   ]
  },
  {
   "cell_type": "markdown",
   "id": "03f95ca9-ee8b-44d1-be73-6ffd97bc27f4",
   "metadata": {},
   "source": [
    "Example 78"
   ]
  },
  {
   "cell_type": "code",
   "execution_count": 235,
   "id": "64450268-978d-4236-b40e-6cacb0493898",
   "metadata": {},
   "outputs": [
    {
     "name": "stdout",
     "output_type": "stream",
     "text": [
      "<class 'tuple'>\n"
     ]
    }
   ],
   "source": [
    "mytuple = (\"apple\", \"banana\", \"cherry\")\n",
    "print(type(mytuple))"
   ]
  },
  {
   "cell_type": "markdown",
   "id": "5e076095-60f6-40c1-ac69-216667422acd",
   "metadata": {},
   "source": [
    "Example 79"
   ]
  },
  {
   "cell_type": "code",
   "execution_count": 238,
   "id": "e6058e4f-f812-48a5-a76d-4248e6daa04d",
   "metadata": {},
   "outputs": [
    {
     "name": "stdout",
     "output_type": "stream",
     "text": [
      "('apple', 'banana', 'cherry')\n"
     ]
    }
   ],
   "source": [
    "thistuple = tuple((\"apple\", \"banana\", \"cherry\")) # note the double round-brackets\n",
    "print(thistuple)"
   ]
  },
  {
   "cell_type": "markdown",
   "id": "4dad2d95-e998-47ab-b29e-70d1c9a0c029",
   "metadata": {},
   "source": [
    "Example 80"
   ]
  },
  {
   "cell_type": "code",
   "execution_count": 241,
   "id": "6a14b98b-17a8-424b-864b-41576740c467",
   "metadata": {},
   "outputs": [
    {
     "name": "stdout",
     "output_type": "stream",
     "text": [
      "banana\n"
     ]
    }
   ],
   "source": [
    "thistuple = (\"apple\", \"banana\", \"cherry\")\n",
    "print(thistuple[1])"
   ]
  },
  {
   "cell_type": "markdown",
   "id": "b743de79-8581-4280-8950-c71592750f9e",
   "metadata": {},
   "source": [
    "Example 81"
   ]
  },
  {
   "cell_type": "code",
   "execution_count": 244,
   "id": "dd108328-b2cb-4c2d-a565-6a0b13bcf271",
   "metadata": {},
   "outputs": [
    {
     "name": "stdout",
     "output_type": "stream",
     "text": [
      "cherry\n"
     ]
    }
   ],
   "source": [
    "thistuple = (\"apple\", \"banana\", \"cherry\")\n",
    "print(thistuple[-1])"
   ]
  },
  {
   "cell_type": "markdown",
   "id": "5d62e6f5-ab99-4fbd-b1e3-a755fc5f4d63",
   "metadata": {},
   "source": [
    "Example 82"
   ]
  },
  {
   "cell_type": "code",
   "execution_count": 247,
   "id": "0691e09e-d4d6-4fa7-8a65-cd32ed5bbacb",
   "metadata": {},
   "outputs": [
    {
     "name": "stdout",
     "output_type": "stream",
     "text": [
      "('cherry', 'orange', 'kiwi')\n"
     ]
    }
   ],
   "source": [
    "thistuple = (\"apple\", \"banana\", \"cherry\", \"orange\", \"kiwi\", \"melon\", \"mango\")\n",
    "print(thistuple[2:5])"
   ]
  },
  {
   "cell_type": "markdown",
   "id": "816cb142-c8fd-4e88-8ae3-2aaf838a5b14",
   "metadata": {},
   "source": [
    "Example 83"
   ]
  },
  {
   "cell_type": "code",
   "execution_count": 250,
   "id": "7cc364af-d359-4c0d-ba32-1614e12bfd9c",
   "metadata": {},
   "outputs": [
    {
     "name": "stdout",
     "output_type": "stream",
     "text": [
      "('apple', 'banana', 'cherry', 'orange')\n"
     ]
    }
   ],
   "source": [
    "thistuple = (\"apple\", \"banana\", \"cherry\", \"orange\", \"kiwi\", \"melon\", \"mango\")\n",
    "print(thistuple[:4])"
   ]
  },
  {
   "cell_type": "markdown",
   "id": "5fb888c0-dc17-4fe6-97fe-5f9b58f905a1",
   "metadata": {},
   "source": [
    "Example 84"
   ]
  },
  {
   "cell_type": "code",
   "execution_count": 253,
   "id": "b3a9a393-f41e-4aa6-bf74-0f9000d3e028",
   "metadata": {},
   "outputs": [
    {
     "name": "stdout",
     "output_type": "stream",
     "text": [
      "('cherry', 'orange', 'kiwi', 'melon', 'mango')\n"
     ]
    }
   ],
   "source": [
    "thistuple = (\"apple\", \"banana\", \"cherry\", \"orange\", \"kiwi\", \"melon\", \"mango\")\n",
    "print(thistuple[2:])"
   ]
  },
  {
   "cell_type": "markdown",
   "id": "956c828a-4ef4-4600-96e5-9a0080626e77",
   "metadata": {},
   "source": [
    "Example 85"
   ]
  },
  {
   "cell_type": "code",
   "execution_count": 256,
   "id": "15d6966a-04c6-4448-bf51-4733e6e9944c",
   "metadata": {},
   "outputs": [
    {
     "name": "stdout",
     "output_type": "stream",
     "text": [
      "('orange', 'kiwi', 'melon')\n"
     ]
    }
   ],
   "source": [
    "thistuple = (\"apple\", \"banana\", \"cherry\", \"orange\", \"kiwi\", \"melon\", \"mango\")\n",
    "print(thistuple[-4:-1])"
   ]
  },
  {
   "cell_type": "markdown",
   "id": "c5f4984f-524b-437d-bf82-3f38322612f7",
   "metadata": {},
   "source": [
    "Example 86"
   ]
  },
  {
   "cell_type": "code",
   "execution_count": 259,
   "id": "4df38ab5-f498-43c8-afba-60001401455c",
   "metadata": {},
   "outputs": [
    {
     "name": "stdout",
     "output_type": "stream",
     "text": [
      "Yes, 'apple' is in the fruits tuple\n"
     ]
    }
   ],
   "source": [
    "thistuple = (\"apple\", \"banana\", \"cherry\")\n",
    "if \"apple\" in thistuple:\n",
    "  print(\"Yes, 'apple' is in the fruits tuple\")"
   ]
  },
  {
   "cell_type": "markdown",
   "id": "1e15d9d3-9f28-464e-8aa9-391b0a827620",
   "metadata": {},
   "source": [
    "Example 87"
   ]
  },
  {
   "cell_type": "code",
   "execution_count": 262,
   "id": "3ceca2ff-164e-4535-8a76-64649bda52da",
   "metadata": {},
   "outputs": [
    {
     "name": "stdout",
     "output_type": "stream",
     "text": [
      "('apple', 'kiwi', 'cherry')\n"
     ]
    }
   ],
   "source": [
    "x = (\"apple\", \"banana\", \"cherry\")\n",
    "y = list(x)\n",
    "y[1] = \"kiwi\"\n",
    "x = tuple(y)\n",
    "\n",
    "print(x)"
   ]
  },
  {
   "cell_type": "markdown",
   "id": "953f1edb-95d1-4f28-ab14-fbaf13a68c15",
   "metadata": {},
   "source": [
    "Example 88"
   ]
  },
  {
   "cell_type": "code",
   "execution_count": 265,
   "id": "b8adcde8-4284-4c55-a8be-37cf4377f0f1",
   "metadata": {},
   "outputs": [],
   "source": [
    "thistuple = (\"apple\", \"banana\", \"cherry\")\n",
    "y = list(thistuple)\n",
    "y.append(\"orange\")\n",
    "thistuple = tuple(y)"
   ]
  },
  {
   "cell_type": "markdown",
   "id": "d11866f1-f275-4ef6-8a1d-6d792403251d",
   "metadata": {},
   "source": [
    "Example 89"
   ]
  },
  {
   "cell_type": "code",
   "execution_count": 268,
   "id": "f6ea9c53-f704-43da-843c-e7a577ab4ea4",
   "metadata": {},
   "outputs": [
    {
     "name": "stdout",
     "output_type": "stream",
     "text": [
      "('apple', 'banana', 'cherry', 'orange')\n"
     ]
    }
   ],
   "source": [
    "thistuple = (\"apple\", \"banana\", \"cherry\")\n",
    "y = (\"orange\",)\n",
    "thistuple += y\n",
    "\n",
    "print(thistuple)"
   ]
  },
  {
   "cell_type": "markdown",
   "id": "3c6077a4-ccee-4152-9867-7cd62e9b18f8",
   "metadata": {},
   "source": [
    "Example 90"
   ]
  },
  {
   "cell_type": "code",
   "execution_count": 271,
   "id": "f8363771-05f9-4ac9-b958-16cde5fc2eb1",
   "metadata": {},
   "outputs": [],
   "source": [
    "thistuple = (\"apple\", \"banana\", \"cherry\")\n",
    "y = list(thistuple)\n",
    "y.remove(\"apple\")\n",
    "thistuple = tuple(y)"
   ]
  },
  {
   "cell_type": "markdown",
   "id": "5a7ff4f9-e5e2-4445-8c5a-392a3b2a19b0",
   "metadata": {},
   "source": [
    "Example 91"
   ]
  },
  {
   "cell_type": "code",
   "execution_count": 274,
   "id": "c272738f-8237-4ed0-88e3-9467b013369e",
   "metadata": {},
   "outputs": [
    {
     "ename": "NameError",
     "evalue": "name 'thistuple' is not defined",
     "output_type": "error",
     "traceback": [
      "\u001b[1;31m---------------------------------------------------------------------------\u001b[0m",
      "\u001b[1;31mNameError\u001b[0m                                 Traceback (most recent call last)",
      "Cell \u001b[1;32mIn[274], line 3\u001b[0m\n\u001b[0;32m      1\u001b[0m thistuple \u001b[38;5;241m=\u001b[39m (\u001b[38;5;124m\"\u001b[39m\u001b[38;5;124mapple\u001b[39m\u001b[38;5;124m\"\u001b[39m, \u001b[38;5;124m\"\u001b[39m\u001b[38;5;124mbanana\u001b[39m\u001b[38;5;124m\"\u001b[39m, \u001b[38;5;124m\"\u001b[39m\u001b[38;5;124mcherry\u001b[39m\u001b[38;5;124m\"\u001b[39m)\n\u001b[0;32m      2\u001b[0m \u001b[38;5;28;01mdel\u001b[39;00m thistuple\n\u001b[1;32m----> 3\u001b[0m \u001b[38;5;28mprint\u001b[39m(thistuple)\n",
      "\u001b[1;31mNameError\u001b[0m: name 'thistuple' is not defined"
     ]
    }
   ],
   "source": [
    "thistuple = (\"apple\", \"banana\", \"cherry\")\n",
    "del thistuple\n",
    "print(thistuple) #this will raise an error because the tuple no longer exists"
   ]
  },
  {
   "cell_type": "markdown",
   "id": "eabac5a1-f385-4cdd-85b5-29388ee793b4",
   "metadata": {},
   "source": [
    "Example 92"
   ]
  },
  {
   "cell_type": "code",
   "execution_count": 277,
   "id": "dd8c8b49-aa41-4cf8-89a0-a641e237b431",
   "metadata": {},
   "outputs": [],
   "source": [
    "fruits = (\"apple\", \"banana\", \"cherry\")"
   ]
  },
  {
   "cell_type": "markdown",
   "id": "acd2151c-adac-4426-8b65-d89c326d1cc6",
   "metadata": {},
   "source": [
    "Example 93"
   ]
  },
  {
   "cell_type": "code",
   "execution_count": 280,
   "id": "53bd6f3e-2bc0-404c-aab7-d3f29983d1b5",
   "metadata": {},
   "outputs": [
    {
     "name": "stdout",
     "output_type": "stream",
     "text": [
      "apple\n",
      "banana\n",
      "cherry\n"
     ]
    }
   ],
   "source": [
    "fruits = (\"apple\", \"banana\", \"cherry\")\n",
    "\n",
    "(green, yellow, red) = fruits\n",
    "\n",
    "print(green)\n",
    "print(yellow)\n",
    "print(red)"
   ]
  },
  {
   "cell_type": "markdown",
   "id": "92f26779-1bb1-4c0e-954e-5f4c8504ff6b",
   "metadata": {},
   "source": [
    "Example 94"
   ]
  },
  {
   "cell_type": "code",
   "execution_count": 283,
   "id": "6e5bcf63-7877-49b5-8475-0dc85efa10fd",
   "metadata": {},
   "outputs": [
    {
     "name": "stdout",
     "output_type": "stream",
     "text": [
      "apple\n",
      "banana\n",
      "['cherry', 'strawberry', 'raspberry']\n"
     ]
    }
   ],
   "source": [
    "fruits = (\"apple\", \"banana\", \"cherry\", \"strawberry\", \"raspberry\")\n",
    "\n",
    "(green, yellow, *red) = fruits\n",
    "\n",
    "print(green)\n",
    "print(yellow)\n",
    "print(red)"
   ]
  },
  {
   "cell_type": "markdown",
   "id": "4e65ebf8-a524-45fb-a9eb-70a9f8d5a408",
   "metadata": {},
   "source": [
    "Example 95"
   ]
  },
  {
   "cell_type": "code",
   "execution_count": 286,
   "id": "55065184-045a-4ac3-b2cc-3ab4afa12479",
   "metadata": {},
   "outputs": [
    {
     "name": "stdout",
     "output_type": "stream",
     "text": [
      "apple\n",
      "['mango', 'papaya', 'pineapple']\n",
      "cherry\n"
     ]
    }
   ],
   "source": [
    "fruits = (\"apple\", \"mango\", \"papaya\", \"pineapple\", \"cherry\")\n",
    "\n",
    "(green, *tropic, red) = fruits\n",
    "\n",
    "print(green)\n",
    "print(tropic)\n",
    "print(red)"
   ]
  },
  {
   "cell_type": "markdown",
   "id": "bcaac015-a55b-4f1c-aa36-1ee8e7960d4d",
   "metadata": {},
   "source": [
    "Example 96"
   ]
  },
  {
   "cell_type": "code",
   "execution_count": 289,
   "id": "8f0e522d-9d87-494b-bfe2-db3d34525e52",
   "metadata": {},
   "outputs": [
    {
     "name": "stdout",
     "output_type": "stream",
     "text": [
      "apple\n",
      "banana\n",
      "cherry\n"
     ]
    }
   ],
   "source": [
    "thistuple = (\"apple\", \"banana\", \"cherry\")\n",
    "for x in thistuple:\n",
    "  print(x)"
   ]
  },
  {
   "cell_type": "markdown",
   "id": "73fc4a9e-7d52-4288-a1a8-2e6940cb6f73",
   "metadata": {},
   "source": [
    "Example 97"
   ]
  },
  {
   "cell_type": "code",
   "execution_count": 292,
   "id": "a65afc11-7721-4fb9-bcb7-88c55a647b04",
   "metadata": {},
   "outputs": [
    {
     "name": "stdout",
     "output_type": "stream",
     "text": [
      "apple\n",
      "banana\n",
      "cherry\n"
     ]
    }
   ],
   "source": [
    "thistuple = (\"apple\", \"banana\", \"cherry\")\n",
    "for i in range(len(thistuple)):\n",
    "  print(thistuple[i])"
   ]
  },
  {
   "cell_type": "markdown",
   "id": "bfca6923-07bd-4e4a-8136-946220bc3ed4",
   "metadata": {},
   "source": [
    "Example 98"
   ]
  },
  {
   "cell_type": "code",
   "execution_count": 295,
   "id": "e850c298-6ff4-4299-976f-065cd844bfdc",
   "metadata": {},
   "outputs": [
    {
     "name": "stdout",
     "output_type": "stream",
     "text": [
      "apple\n",
      "banana\n",
      "cherry\n"
     ]
    }
   ],
   "source": [
    "thistuple = (\"apple\", \"banana\", \"cherry\")\n",
    "i = 0\n",
    "while i < len(thistuple):\n",
    "  print(thistuple[i])\n",
    "  i = i + 1"
   ]
  },
  {
   "cell_type": "markdown",
   "id": "bf300228-c7f7-421c-9000-b4d6e7d2eeba",
   "metadata": {},
   "source": [
    "Example 99"
   ]
  },
  {
   "cell_type": "code",
   "execution_count": 298,
   "id": "bb46d0de-9bc3-489a-908a-d7ef0334cd4c",
   "metadata": {},
   "outputs": [
    {
     "name": "stdout",
     "output_type": "stream",
     "text": [
      "('a', 'b', 'c', 1, 2, 3)\n"
     ]
    }
   ],
   "source": [
    "tuple1 = (\"a\", \"b\" , \"c\")\n",
    "tuple2 = (1, 2, 3)\n",
    "\n",
    "tuple3 = tuple1 + tuple2\n",
    "print(tuple3)"
   ]
  },
  {
   "cell_type": "markdown",
   "id": "3695c738-ec63-478b-b014-4052ab7f816b",
   "metadata": {},
   "source": [
    "Example 100"
   ]
  },
  {
   "cell_type": "code",
   "execution_count": 301,
   "id": "ed4371e2-1097-4b48-acd7-14819cbb4d33",
   "metadata": {},
   "outputs": [
    {
     "name": "stdout",
     "output_type": "stream",
     "text": [
      "('apple', 'banana', 'cherry', 'apple', 'banana', 'cherry')\n"
     ]
    }
   ],
   "source": [
    "fruits = (\"apple\", \"banana\", \"cherry\")\n",
    "mytuple = fruits * 2\n",
    "\n",
    "print(mytuple)"
   ]
  },
  {
   "cell_type": "markdown",
   "id": "6ab4105e-8574-4b2a-9959-479e67841791",
   "metadata": {},
   "source": [
    "Example 101"
   ]
  },
  {
   "cell_type": "code",
   "execution_count": 304,
   "id": "aa64d854-a880-4c1e-bc9a-9147e7e9b721",
   "metadata": {},
   "outputs": [
    {
     "name": "stdout",
     "output_type": "stream",
     "text": [
      "{'apple', 'banana', 'cherry'}\n"
     ]
    }
   ],
   "source": [
    "thisset = {\"apple\", \"banana\", \"cherry\"}\n",
    "print(thisset)"
   ]
  },
  {
   "cell_type": "markdown",
   "id": "15c575ca-0377-4262-9722-28f663fb2e02",
   "metadata": {},
   "source": [
    "Example 102"
   ]
  },
  {
   "cell_type": "code",
   "execution_count": 307,
   "id": "d3fe0345-f3ce-4fac-a704-f95cc137d343",
   "metadata": {},
   "outputs": [
    {
     "name": "stdout",
     "output_type": "stream",
     "text": [
      "{'apple', 'banana', 'cherry'}\n"
     ]
    }
   ],
   "source": [
    "thisset = {\"apple\", \"banana\", \"cherry\", \"apple\"}\n",
    "\n",
    "print(thisset)"
   ]
  },
  {
   "cell_type": "markdown",
   "id": "de7bec05-e816-4396-830c-29c01a34c77e",
   "metadata": {},
   "source": [
    "Example 103"
   ]
  },
  {
   "cell_type": "code",
   "execution_count": 310,
   "id": "f00d02da-872d-4249-8d4b-68292bdc9696",
   "metadata": {},
   "outputs": [
    {
     "name": "stdout",
     "output_type": "stream",
     "text": [
      "{True, 2, 'banana', 'apple', 'cherry'}\n"
     ]
    }
   ],
   "source": [
    "thisset = {\"apple\", \"banana\", \"cherry\", True, 1, 2}\n",
    "\n",
    "print(thisset)"
   ]
  },
  {
   "cell_type": "markdown",
   "id": "1dab3257-7f3b-42ce-a59b-465cb06908d2",
   "metadata": {},
   "source": [
    "Example 104"
   ]
  },
  {
   "cell_type": "code",
   "execution_count": 313,
   "id": "e5a6f8e8-6a84-4fee-b164-3b34ae32b388",
   "metadata": {},
   "outputs": [
    {
     "name": "stdout",
     "output_type": "stream",
     "text": [
      "{False, True, 'banana', 'apple', 'cherry'}\n"
     ]
    }
   ],
   "source": [
    "thisset = {\"apple\", \"banana\", \"cherry\", False, True, 0}\n",
    "\n",
    "print(thisset)"
   ]
  },
  {
   "cell_type": "markdown",
   "id": "44e03115-4960-45ab-af8a-a859d8f67678",
   "metadata": {},
   "source": [
    "Example 105"
   ]
  },
  {
   "cell_type": "code",
   "execution_count": 316,
   "id": "16171d99-0fab-46d9-b174-26f1640d986c",
   "metadata": {},
   "outputs": [
    {
     "name": "stdout",
     "output_type": "stream",
     "text": [
      "3\n"
     ]
    }
   ],
   "source": [
    "thisset = {\"apple\", \"banana\", \"cherry\"}\n",
    "\n",
    "print(len(thisset))"
   ]
  },
  {
   "cell_type": "markdown",
   "id": "f57aa744-abcc-4dd3-a689-475f048f728c",
   "metadata": {},
   "source": [
    "Example 106"
   ]
  },
  {
   "cell_type": "code",
   "execution_count": 319,
   "id": "77714331-1039-43c4-b9e5-a3acc9f60ab7",
   "metadata": {},
   "outputs": [],
   "source": [
    "set1 = {\"apple\", \"banana\", \"cherry\"}\n",
    "set2 = {1, 5, 7, 9, 3}\n",
    "set3 = {True, False, False}"
   ]
  },
  {
   "cell_type": "markdown",
   "id": "21e3ccbf-9a2b-464d-a7cb-2be9ac6c5662",
   "metadata": {},
   "source": [
    "Example 107"
   ]
  },
  {
   "cell_type": "code",
   "execution_count": 322,
   "id": "e24d25b8-5aef-4836-9086-4c9705f6344c",
   "metadata": {},
   "outputs": [],
   "source": [
    "set1 = {\"abc\", 34, True, 40, \"male\"}"
   ]
  },
  {
   "cell_type": "markdown",
   "id": "18ad0452-6b76-4148-86eb-eb4d9f755c08",
   "metadata": {},
   "source": [
    "Example 108"
   ]
  },
  {
   "cell_type": "code",
   "execution_count": 325,
   "id": "23377442-8a7d-4184-8caf-bf36c6826981",
   "metadata": {},
   "outputs": [
    {
     "name": "stdout",
     "output_type": "stream",
     "text": [
      "<class 'set'>\n"
     ]
    }
   ],
   "source": [
    "myset = {\"apple\", \"banana\", \"cherry\"}\n",
    "print(type(myset))"
   ]
  },
  {
   "cell_type": "markdown",
   "id": "aa9bad88-8249-4790-9650-7f93cd3fb86a",
   "metadata": {},
   "source": [
    "Example 109"
   ]
  },
  {
   "cell_type": "code",
   "execution_count": 328,
   "id": "52b79293-79de-434f-895d-af56cedc22bf",
   "metadata": {},
   "outputs": [
    {
     "name": "stdout",
     "output_type": "stream",
     "text": [
      "{'apple', 'banana', 'cherry'}\n"
     ]
    }
   ],
   "source": [
    "thisset = set((\"apple\", \"banana\", \"cherry\")) # note the double round-brackets\n",
    "print(thisset)"
   ]
  },
  {
   "cell_type": "markdown",
   "id": "6221ff39-f6b2-4518-9a86-2abcb4e936e6",
   "metadata": {},
   "source": [
    "Example 110"
   ]
  },
  {
   "cell_type": "code",
   "execution_count": 331,
   "id": "6799732b-e5a4-4d0d-8e5d-fe5c5dd86b82",
   "metadata": {},
   "outputs": [
    {
     "name": "stdout",
     "output_type": "stream",
     "text": [
      "apple\n",
      "banana\n",
      "cherry\n"
     ]
    }
   ],
   "source": [
    "thisset = {\"apple\", \"banana\", \"cherry\"}\n",
    "\n",
    "for x in thisset:\n",
    "  print(x)"
   ]
  },
  {
   "cell_type": "markdown",
   "id": "e2ac5951-bd63-4fad-a291-8ec42425a31c",
   "metadata": {},
   "source": [
    "Example 111"
   ]
  },
  {
   "cell_type": "code",
   "execution_count": 334,
   "id": "65fe88b9-d0a0-49c9-b48c-ab2ad48944e3",
   "metadata": {},
   "outputs": [
    {
     "name": "stdout",
     "output_type": "stream",
     "text": [
      "True\n"
     ]
    }
   ],
   "source": [
    "thisset = {\"apple\", \"banana\", \"cherry\"}\n",
    "\n",
    "print(\"banana\" in thisset)"
   ]
  },
  {
   "cell_type": "markdown",
   "id": "4312c5b0-acee-45eb-8cba-1e8558fb0fe7",
   "metadata": {},
   "source": [
    "Example 112"
   ]
  },
  {
   "cell_type": "code",
   "execution_count": 337,
   "id": "7a9b17f1-0588-42d2-9d2e-c2f8f40a419c",
   "metadata": {},
   "outputs": [
    {
     "name": "stdout",
     "output_type": "stream",
     "text": [
      "False\n"
     ]
    }
   ],
   "source": [
    "thisset = {\"apple\", \"banana\", \"cherry\"}\n",
    "\n",
    "print(\"banana\" not in thisset)"
   ]
  },
  {
   "cell_type": "markdown",
   "id": "55e9ecd5-c601-48cf-8f56-9f5c2f21909f",
   "metadata": {},
   "source": [
    "Example 113"
   ]
  },
  {
   "cell_type": "code",
   "execution_count": 340,
   "id": "73dbd167-7764-4d6d-9c6a-28ca7cef0452",
   "metadata": {},
   "outputs": [
    {
     "name": "stdout",
     "output_type": "stream",
     "text": [
      "{'apple', 'banana', 'orange', 'cherry'}\n"
     ]
    }
   ],
   "source": [
    "thisset = {\"apple\", \"banana\", \"cherry\"}\n",
    "\n",
    "thisset.add(\"orange\")\n",
    "\n",
    "print(thisset)"
   ]
  },
  {
   "cell_type": "markdown",
   "id": "847c297c-e19d-4789-b5e9-45ed3a37abf7",
   "metadata": {},
   "source": [
    "Example 114"
   ]
  },
  {
   "cell_type": "code",
   "execution_count": 343,
   "id": "cc794905-7985-44a4-941d-dbdbf34820ae",
   "metadata": {},
   "outputs": [
    {
     "name": "stdout",
     "output_type": "stream",
     "text": [
      "{'banana', 'cherry', 'mango', 'apple', 'pineapple', 'papaya'}\n"
     ]
    }
   ],
   "source": [
    "thisset = {\"apple\", \"banana\", \"cherry\"}\n",
    "tropical = {\"pineapple\", \"mango\", \"papaya\"}\n",
    "\n",
    "thisset.update(tropical)\n",
    "\n",
    "print(thisset)"
   ]
  },
  {
   "cell_type": "markdown",
   "id": "f3f5d0c9-2ce3-4e0c-92c7-3b41ef4f541c",
   "metadata": {},
   "source": [
    "Example 115"
   ]
  },
  {
   "cell_type": "code",
   "execution_count": 346,
   "id": "84564751-e961-4df0-b834-e679256edf0a",
   "metadata": {},
   "outputs": [
    {
     "name": "stdout",
     "output_type": "stream",
     "text": [
      "{'orange', 'cherry', 'banana', 'kiwi', 'apple'}\n"
     ]
    }
   ],
   "source": [
    "thisset = {\"apple\", \"banana\", \"cherry\"}\n",
    "mylist = [\"kiwi\", \"orange\"]\n",
    "\n",
    "thisset.update(mylist)\n",
    "\n",
    "print(thisset)"
   ]
  },
  {
   "cell_type": "markdown",
   "id": "be9fcc52-eb77-48b6-9902-37e5f414b370",
   "metadata": {},
   "source": [
    "Example 116"
   ]
  },
  {
   "cell_type": "code",
   "execution_count": 349,
   "id": "0afd4a90-e7f1-4487-9c32-ee636d6379f1",
   "metadata": {},
   "outputs": [
    {
     "name": "stdout",
     "output_type": "stream",
     "text": [
      "{'apple', 'cherry'}\n"
     ]
    }
   ],
   "source": [
    "thisset = {\"apple\", \"banana\", \"cherry\"}\n",
    "\n",
    "thisset.remove(\"banana\")\n",
    "\n",
    "print(thisset)"
   ]
  },
  {
   "cell_type": "markdown",
   "id": "b2131855-cfe7-4d64-881e-5055ca23b171",
   "metadata": {},
   "source": [
    "Example 117"
   ]
  },
  {
   "cell_type": "code",
   "execution_count": 352,
   "id": "8aaf187d-999f-4668-9858-1768a5a8a49a",
   "metadata": {},
   "outputs": [
    {
     "name": "stdout",
     "output_type": "stream",
     "text": [
      "{'apple', 'cherry'}\n"
     ]
    }
   ],
   "source": [
    "thisset = {\"apple\", \"banana\", \"cherry\"}\n",
    "\n",
    "thisset.discard(\"banana\")\n",
    "\n",
    "print(thisset)"
   ]
  },
  {
   "cell_type": "markdown",
   "id": "b95c9cab-f01e-4c80-bcbb-248fd9463296",
   "metadata": {},
   "source": [
    "Example 118"
   ]
  },
  {
   "cell_type": "code",
   "execution_count": 355,
   "id": "8a97d080-9c01-43e4-aa39-faf7ee5f38d6",
   "metadata": {},
   "outputs": [
    {
     "name": "stdout",
     "output_type": "stream",
     "text": [
      "apple\n",
      "{'banana', 'cherry'}\n"
     ]
    }
   ],
   "source": [
    "thisset = {\"apple\", \"banana\", \"cherry\"}\n",
    "\n",
    "x = thisset.pop()\n",
    "\n",
    "print(x)\n",
    "\n",
    "print(thisset)"
   ]
  },
  {
   "cell_type": "markdown",
   "id": "6bb1f531-311a-49f5-93f5-17c48e1a7aab",
   "metadata": {},
   "source": [
    "Example 119"
   ]
  },
  {
   "cell_type": "code",
   "execution_count": 358,
   "id": "fa3dcc26-397a-421e-aeda-64df84dd38e0",
   "metadata": {},
   "outputs": [
    {
     "name": "stdout",
     "output_type": "stream",
     "text": [
      "set()\n"
     ]
    }
   ],
   "source": [
    "thisset = {\"apple\", \"banana\", \"cherry\"}\n",
    "\n",
    "thisset.clear()\n",
    "\n",
    "print(thisset)"
   ]
  },
  {
   "cell_type": "markdown",
   "id": "f4c4e01b-27f0-451b-961b-8d41eeb93019",
   "metadata": {},
   "source": [
    "Example 120"
   ]
  },
  {
   "cell_type": "code",
   "execution_count": 363,
   "id": "1d29f354-35e0-4c6e-a14b-3b38f68b8b59",
   "metadata": {},
   "outputs": [
    {
     "ename": "NameError",
     "evalue": "name 'thisset' is not defined",
     "output_type": "error",
     "traceback": [
      "\u001b[1;31m---------------------------------------------------------------------------\u001b[0m",
      "\u001b[1;31mNameError\u001b[0m                                 Traceback (most recent call last)",
      "Cell \u001b[1;32mIn[363], line 5\u001b[0m\n\u001b[0;32m      1\u001b[0m thisset \u001b[38;5;241m=\u001b[39m {\u001b[38;5;124m\"\u001b[39m\u001b[38;5;124mapple\u001b[39m\u001b[38;5;124m\"\u001b[39m, \u001b[38;5;124m\"\u001b[39m\u001b[38;5;124mbanana\u001b[39m\u001b[38;5;124m\"\u001b[39m, \u001b[38;5;124m\"\u001b[39m\u001b[38;5;124mcherry\u001b[39m\u001b[38;5;124m\"\u001b[39m}\n\u001b[0;32m      3\u001b[0m \u001b[38;5;28;01mdel\u001b[39;00m thisset\n\u001b[1;32m----> 5\u001b[0m \u001b[38;5;28mprint\u001b[39m(thisset)\n",
      "\u001b[1;31mNameError\u001b[0m: name 'thisset' is not defined"
     ]
    }
   ],
   "source": [
    "thisset = {\"apple\", \"banana\", \"cherry\"}\n",
    "\n",
    "del thisset\n",
    "\n",
    "print(thisset)"
   ]
  },
  {
   "cell_type": "markdown",
   "id": "6a33a88f-5f82-45fe-a36c-f1c7b755f93e",
   "metadata": {},
   "source": [
    "Example 121"
   ]
  },
  {
   "cell_type": "code",
   "execution_count": 366,
   "id": "4d1f6e56-f535-438b-84fc-f78f989365aa",
   "metadata": {},
   "outputs": [
    {
     "name": "stdout",
     "output_type": "stream",
     "text": [
      "apple\n",
      "banana\n",
      "cherry\n"
     ]
    }
   ],
   "source": [
    "thisset = {\"apple\", \"banana\", \"cherry\"}\n",
    "\n",
    "for x in thisset:\n",
    "  print(x)"
   ]
  },
  {
   "cell_type": "markdown",
   "id": "dca2bc80-f6be-44cc-b420-cdbd21b43bb3",
   "metadata": {},
   "source": [
    "Example 122"
   ]
  },
  {
   "cell_type": "code",
   "execution_count": 369,
   "id": "63bea715-fdaf-4aca-aad3-4dcc2b0dd033",
   "metadata": {},
   "outputs": [
    {
     "name": "stdout",
     "output_type": "stream",
     "text": [
      "{1, 2, 3, 'b', 'c', 'a'}\n"
     ]
    }
   ],
   "source": [
    "set1 = {\"a\", \"b\", \"c\"}\n",
    "set2 = {1, 2, 3}\n",
    "\n",
    "set3 = set1.union(set2)\n",
    "print(set3)"
   ]
  },
  {
   "cell_type": "markdown",
   "id": "80fd3efe-5651-4502-be67-91ecdbfa0b9a",
   "metadata": {},
   "source": [
    "Example 123"
   ]
  },
  {
   "cell_type": "code",
   "execution_count": 372,
   "id": "5958cc7a-c3c2-46b2-a529-7530bcdf2108",
   "metadata": {},
   "outputs": [
    {
     "name": "stdout",
     "output_type": "stream",
     "text": [
      "{1, 2, 3, 'b', 'c', 'a'}\n"
     ]
    }
   ],
   "source": [
    "set1 = {\"a\", \"b\", \"c\"}\n",
    "set2 = {1, 2, 3}\n",
    "\n",
    "set3 = set1 | set2\n",
    "print(set3)"
   ]
  },
  {
   "cell_type": "markdown",
   "id": "c7e73b49-e893-4961-968d-b0f6d6a2feea",
   "metadata": {},
   "source": [
    "Example 124"
   ]
  },
  {
   "cell_type": "code",
   "execution_count": 375,
   "id": "700abd03-63d3-499d-96f1-7f3cfcf29dde",
   "metadata": {},
   "outputs": [
    {
     "name": "stdout",
     "output_type": "stream",
     "text": [
      "{1, 2, 3, 'bananas', 'b', 'cherry', 'Elena', 'a', 'John', 'apple', 'c'}\n"
     ]
    }
   ],
   "source": [
    "set1 = {\"a\", \"b\", \"c\"}\n",
    "set2 = {1, 2, 3}\n",
    "set3 = {\"John\", \"Elena\"}\n",
    "set4 = {\"apple\", \"bananas\", \"cherry\"}\n",
    "\n",
    "myset = set1.union(set2, set3, set4)\n",
    "print(myset)"
   ]
  },
  {
   "cell_type": "markdown",
   "id": "fe918a57-34fd-4d45-9d1e-691460b3a290",
   "metadata": {},
   "source": [
    "Example 125"
   ]
  },
  {
   "cell_type": "code",
   "execution_count": 378,
   "id": "9181a8c2-a7fa-4987-af94-69a6ab920185",
   "metadata": {},
   "outputs": [
    {
     "name": "stdout",
     "output_type": "stream",
     "text": [
      "{1, 2, 3, 'bananas', 'b', 'cherry', 'Elena', 'a', 'John', 'apple', 'c'}\n"
     ]
    }
   ],
   "source": [
    "set1 = {\"a\", \"b\", \"c\"}\n",
    "set2 = {1, 2, 3}\n",
    "set3 = {\"John\", \"Elena\"}\n",
    "set4 = {\"apple\", \"bananas\", \"cherry\"}\n",
    "\n",
    "myset = set1 | set2 | set3 |set4\n",
    "print(myset)"
   ]
  },
  {
   "cell_type": "markdown",
   "id": "29774c65-f7ca-43f5-848f-d7341141d6de",
   "metadata": {},
   "source": [
    "Example 126"
   ]
  },
  {
   "cell_type": "code",
   "execution_count": 381,
   "id": "1dd83b78-1e86-49f0-a76a-508a5be44e2d",
   "metadata": {},
   "outputs": [
    {
     "name": "stdout",
     "output_type": "stream",
     "text": [
      "{1, 2, 3, 'b', 'a', 'c'}\n"
     ]
    }
   ],
   "source": [
    "x = {\"a\", \"b\", \"c\"}\n",
    "y = (1, 2, 3)\n",
    "\n",
    "z = x.union(y)\n",
    "print(z)"
   ]
  },
  {
   "cell_type": "markdown",
   "id": "6dd58c62-6ef5-4502-9321-2eed2800aa80",
   "metadata": {},
   "source": [
    "Example 127"
   ]
  },
  {
   "cell_type": "code",
   "execution_count": 384,
   "id": "7a1a8d5c-2d99-45be-a365-194dadd2635a",
   "metadata": {},
   "outputs": [
    {
     "name": "stdout",
     "output_type": "stream",
     "text": [
      "{1, 2, 3, 'b', 'c', 'a'}\n"
     ]
    }
   ],
   "source": [
    "set1 = {\"a\", \"b\" , \"c\"}\n",
    "set2 = {1, 2, 3}\n",
    "\n",
    "set1.update(set2)\n",
    "print(set1)"
   ]
  },
  {
   "cell_type": "markdown",
   "id": "2df51001-4563-4af0-9bc4-6d273ad0a6b7",
   "metadata": {},
   "source": [
    "Example 128"
   ]
  },
  {
   "cell_type": "code",
   "execution_count": 387,
   "id": "1dbd6984-a1ce-4ae6-886d-af05e4b292a3",
   "metadata": {},
   "outputs": [],
   "source": [
    "thisdict = {\n",
    "  \"brand\": \"Ford\",\n",
    "  \"model\": \"Mustang\",\n",
    "  \"year\": 1964\n",
    "}\n",
    "x = thisdict[\"model\"]"
   ]
  },
  {
   "cell_type": "markdown",
   "id": "e44d64fd-b005-4a46-bb35-69f15edc840d",
   "metadata": {},
   "source": [
    "Example 129"
   ]
  },
  {
   "cell_type": "code",
   "execution_count": 390,
   "id": "61d002c5-2fbe-4c16-b7c1-34d64697cd4a",
   "metadata": {},
   "outputs": [],
   "source": [
    "x = thisdict.get(\"model\")"
   ]
  },
  {
   "cell_type": "markdown",
   "id": "09bf0c8a-3834-4b25-9557-184b3a8a56e5",
   "metadata": {},
   "source": [
    "Example 130"
   ]
  },
  {
   "cell_type": "code",
   "execution_count": 393,
   "id": "eb1f55ba-efd9-4c51-8368-7f0ead86b4dc",
   "metadata": {},
   "outputs": [],
   "source": [
    "x = thisdict.keys()"
   ]
  },
  {
   "cell_type": "markdown",
   "id": "c2e8cc8c-744b-4168-b4cd-043ad8520e58",
   "metadata": {},
   "source": [
    "Example 131"
   ]
  },
  {
   "cell_type": "code",
   "execution_count": 396,
   "id": "0b92f68b-b079-49ce-98c6-28619d3a2724",
   "metadata": {},
   "outputs": [
    {
     "name": "stdout",
     "output_type": "stream",
     "text": [
      "dict_keys(['brand', 'model', 'year'])\n",
      "dict_keys(['brand', 'model', 'year', 'color'])\n"
     ]
    }
   ],
   "source": [
    "car = {\n",
    "\"brand\": \"Ford\",\n",
    "\"model\": \"Mustang\",\n",
    "\"year\": 1964\n",
    "}\n",
    "\n",
    "x = car.keys()\n",
    "\n",
    "print(x) #before the change\n",
    "\n",
    "car[\"color\"] = \"white\"\n",
    "\n",
    "print(x) #after the change"
   ]
  },
  {
   "cell_type": "markdown",
   "id": "6d7a27b6-7c6a-439f-b331-263e4dcf554a",
   "metadata": {},
   "source": [
    "Example 132"
   ]
  },
  {
   "cell_type": "code",
   "execution_count": 401,
   "id": "50015fd6-ad88-4d42-97f6-d0d2cb857889",
   "metadata": {},
   "outputs": [],
   "source": [
    "x = thisdict.values()"
   ]
  },
  {
   "cell_type": "markdown",
   "id": "0988ab49-1fb9-4f73-9e4c-872ff8180d2f",
   "metadata": {},
   "source": [
    "Example 133"
   ]
  },
  {
   "cell_type": "code",
   "execution_count": 404,
   "id": "ffa7fd70-d92d-4ea9-969a-ddbc064148d8",
   "metadata": {},
   "outputs": [
    {
     "name": "stdout",
     "output_type": "stream",
     "text": [
      "dict_values(['Ford', 'Mustang', 1964])\n",
      "dict_values(['Ford', 'Mustang', 2020])\n"
     ]
    }
   ],
   "source": [
    "car = {\n",
    "\"brand\": \"Ford\",\n",
    "\"model\": \"Mustang\",\n",
    "\"year\": 1964\n",
    "}\n",
    "\n",
    "x = car.values()\n",
    "\n",
    "print(x) #before the change\n",
    "\n",
    "car[\"year\"] = 2020\n",
    "\n",
    "print(x) #after the change"
   ]
  },
  {
   "cell_type": "markdown",
   "id": "27e5eb8c-fd05-4357-94c5-5f801f630620",
   "metadata": {},
   "source": [
    "Example 134"
   ]
  },
  {
   "cell_type": "code",
   "execution_count": 407,
   "id": "1caaee3f-08ba-4c0b-97c6-614015cc0954",
   "metadata": {},
   "outputs": [
    {
     "name": "stdout",
     "output_type": "stream",
     "text": [
      "dict_values(['Ford', 'Mustang', 1964])\n",
      "dict_values(['Ford', 'Mustang', 1964, 'red'])\n"
     ]
    }
   ],
   "source": [
    "car = {\n",
    "\"brand\": \"Ford\",\n",
    "\"model\": \"Mustang\",\n",
    "\"year\": 1964\n",
    "}\n",
    "\n",
    "x = car.values()\n",
    "\n",
    "print(x) #before the change\n",
    "\n",
    "car[\"color\"] = \"red\"\n",
    "\n",
    "print(x) #after the change"
   ]
  },
  {
   "cell_type": "markdown",
   "id": "29c6fac1-fa3b-479f-adc9-7b448686d9d5",
   "metadata": {},
   "source": [
    "Example 135"
   ]
  },
  {
   "cell_type": "code",
   "execution_count": 410,
   "id": "dcc65ae1-0a59-4ebb-98db-fe9fd1b78fc3",
   "metadata": {},
   "outputs": [],
   "source": [
    "x = thisdict.items()"
   ]
  },
  {
   "cell_type": "markdown",
   "id": "a3191336-27c7-4bc3-a48f-7ab005523cb5",
   "metadata": {},
   "source": [
    "Example 136"
   ]
  },
  {
   "cell_type": "code",
   "execution_count": 413,
   "id": "a4a4ad8d-da3a-4ee1-abfe-227e80960496",
   "metadata": {},
   "outputs": [
    {
     "name": "stdout",
     "output_type": "stream",
     "text": [
      "dict_items([('brand', 'Ford'), ('model', 'Mustang'), ('year', 1964)])\n",
      "dict_items([('brand', 'Ford'), ('model', 'Mustang'), ('year', 2020)])\n"
     ]
    }
   ],
   "source": [
    "car = {\n",
    "\"brand\": \"Ford\",\n",
    "\"model\": \"Mustang\",\n",
    "\"year\": 1964\n",
    "}\n",
    "\n",
    "x = car.items()\n",
    "\n",
    "print(x) #before the change\n",
    "\n",
    "car[\"year\"] = 2020\n",
    "\n",
    "print(x) #after the change"
   ]
  },
  {
   "cell_type": "markdown",
   "id": "35b8b479-f335-44a5-b2f0-9ab8f8e7001b",
   "metadata": {},
   "source": [
    "Example 137\n"
   ]
  },
  {
   "cell_type": "code",
   "execution_count": 416,
   "id": "77514ec6-675e-4e24-a1ab-c7c7e8e02b97",
   "metadata": {},
   "outputs": [
    {
     "name": "stdout",
     "output_type": "stream",
     "text": [
      "dict_items([('brand', 'Ford'), ('model', 'Mustang'), ('year', 1964)])\n",
      "dict_items([('brand', 'Ford'), ('model', 'Mustang'), ('year', 1964), ('color', 'red')])\n"
     ]
    }
   ],
   "source": [
    "car = {\n",
    "\"brand\": \"Ford\",\n",
    "\"model\": \"Mustang\",\n",
    "\"year\": 1964\n",
    "}\n",
    "\n",
    "x = car.items()\n",
    "\n",
    "print(x) #before the change\n",
    "\n",
    "car[\"color\"] = \"red\"\n",
    "\n",
    "print(x) #after the change"
   ]
  },
  {
   "cell_type": "markdown",
   "id": "32a85f4b-8222-46e0-82f4-31a0fb77c224",
   "metadata": {},
   "source": [
    "Example 138"
   ]
  },
  {
   "cell_type": "code",
   "execution_count": 419,
   "id": "85d3547b-86a3-455a-810f-6256fee5de07",
   "metadata": {},
   "outputs": [
    {
     "name": "stdout",
     "output_type": "stream",
     "text": [
      "Yes, 'model' is one of the keys in the thisdict dictionary\n"
     ]
    }
   ],
   "source": [
    "thisdict = {\n",
    "  \"brand\": \"Ford\",\n",
    "  \"model\": \"Mustang\",\n",
    "  \"year\": 1964\n",
    "}\n",
    "if \"model\" in thisdict:\n",
    "  print(\"Yes, 'model' is one of the keys in the thisdict dictionary\")"
   ]
  },
  {
   "cell_type": "markdown",
   "id": "b85d279d-08bb-4be7-bd4f-f9b167ea04f4",
   "metadata": {},
   "source": [
    "Example 139"
   ]
  },
  {
   "cell_type": "code",
   "execution_count": 422,
   "id": "d65e7c16-725b-43a7-bd50-34c525a2c592",
   "metadata": {},
   "outputs": [],
   "source": [
    "thisdict = {\n",
    "  \"brand\": \"Ford\",\n",
    "  \"model\": \"Mustang\",\n",
    "  \"year\": 1964\n",
    "}\n",
    "thisdict[\"year\"] = 2018"
   ]
  },
  {
   "cell_type": "markdown",
   "id": "f5fce0bf-f53a-4b52-bc26-915bf10be5c0",
   "metadata": {},
   "source": [
    "Example 140"
   ]
  },
  {
   "cell_type": "code",
   "execution_count": 425,
   "id": "8996c846-d70f-467a-bc99-7ad28d5696e0",
   "metadata": {},
   "outputs": [],
   "source": [
    "thisdict = {\n",
    "  \"brand\": \"Ford\",\n",
    "  \"model\": \"Mustang\",\n",
    "  \"year\": 1964\n",
    "}\n",
    "thisdict.update({\"year\": 2020})"
   ]
  },
  {
   "cell_type": "markdown",
   "id": "562e7a51-4810-4624-9dfb-7ec05f7609f5",
   "metadata": {},
   "source": [
    "Example 141"
   ]
  },
  {
   "cell_type": "code",
   "execution_count": 428,
   "id": "efc8cb6c-dec0-4166-b0fe-58b055d36554",
   "metadata": {},
   "outputs": [
    {
     "name": "stdout",
     "output_type": "stream",
     "text": [
      "{'brand': 'Ford', 'model': 'Mustang', 'year': 1964, 'color': 'red'}\n"
     ]
    }
   ],
   "source": [
    "thisdict = {\n",
    "  \"brand\": \"Ford\",\n",
    "  \"model\": \"Mustang\",\n",
    "  \"year\": 1964\n",
    "}\n",
    "thisdict[\"color\"] = \"red\"\n",
    "print(thisdict)"
   ]
  },
  {
   "cell_type": "markdown",
   "id": "e9966121-f746-4472-900a-fd8a198abbf1",
   "metadata": {},
   "source": [
    "Example 142"
   ]
  },
  {
   "cell_type": "code",
   "execution_count": 431,
   "id": "0bf5265e-bc3f-4c2c-b08b-b0d339f23ca8",
   "metadata": {},
   "outputs": [],
   "source": [
    "thisdict = {\n",
    "  \"brand\": \"Ford\",\n",
    "  \"model\": \"Mustang\",\n",
    "  \"year\": 1964\n",
    "}\n",
    "thisdict.update({\"color\": \"red\"})"
   ]
  },
  {
   "cell_type": "markdown",
   "id": "10f39ac5-1f37-45b5-9cf9-dd0f5468b73c",
   "metadata": {},
   "source": [
    "Example 143"
   ]
  },
  {
   "cell_type": "code",
   "execution_count": 434,
   "id": "138b3cc9-1479-452a-94ad-2a35355ba215",
   "metadata": {},
   "outputs": [
    {
     "name": "stdout",
     "output_type": "stream",
     "text": [
      "{'brand': 'Ford', 'year': 1964}\n"
     ]
    }
   ],
   "source": [
    "thisdict = {\n",
    "  \"brand\": \"Ford\",\n",
    "  \"model\": \"Mustang\",\n",
    "  \"year\": 1964\n",
    "}\n",
    "thisdict.pop(\"model\")\n",
    "print(thisdict)"
   ]
  },
  {
   "cell_type": "markdown",
   "id": "3dbd93e4-d77f-4c76-a496-e9bc9a2d8aea",
   "metadata": {},
   "source": [
    "Example 144"
   ]
  },
  {
   "cell_type": "code",
   "execution_count": 437,
   "id": "7ce22c7a-0bc7-4ced-bb82-ad72ccad41c5",
   "metadata": {},
   "outputs": [
    {
     "name": "stdout",
     "output_type": "stream",
     "text": [
      "{'brand': 'Ford', 'model': 'Mustang'}\n"
     ]
    }
   ],
   "source": [
    "thisdict = {\n",
    "  \"brand\": \"Ford\",\n",
    "  \"model\": \"Mustang\",\n",
    "  \"year\": 1964\n",
    "}\n",
    "thisdict.popitem()\n",
    "print(thisdict)"
   ]
  },
  {
   "cell_type": "markdown",
   "id": "2dd9bf48-7622-4536-aa30-c2705c9ce890",
   "metadata": {},
   "source": [
    "Example 145"
   ]
  },
  {
   "cell_type": "code",
   "execution_count": 440,
   "id": "28d00c6d-d9dd-4dcf-8654-a18b18ebeebc",
   "metadata": {},
   "outputs": [
    {
     "name": "stdout",
     "output_type": "stream",
     "text": [
      "{'brand': 'Ford', 'year': 1964}\n"
     ]
    }
   ],
   "source": [
    "thisdict = {\n",
    "  \"brand\": \"Ford\",\n",
    "  \"model\": \"Mustang\",\n",
    "  \"year\": 1964\n",
    "}\n",
    "del thisdict[\"model\"]\n",
    "print(thisdict)"
   ]
  },
  {
   "cell_type": "markdown",
   "id": "4a2b33f2-f2e9-49f6-a534-a4d3ba24c70d",
   "metadata": {},
   "source": [
    "Example 146"
   ]
  },
  {
   "cell_type": "code",
   "execution_count": 443,
   "id": "06857904-1c01-45f7-aab5-39e87cf3205f",
   "metadata": {},
   "outputs": [
    {
     "ename": "NameError",
     "evalue": "name 'thisdict' is not defined",
     "output_type": "error",
     "traceback": [
      "\u001b[1;31m---------------------------------------------------------------------------\u001b[0m",
      "\u001b[1;31mNameError\u001b[0m                                 Traceback (most recent call last)",
      "Cell \u001b[1;32mIn[443], line 7\u001b[0m\n\u001b[0;32m      1\u001b[0m thisdict \u001b[38;5;241m=\u001b[39m {\n\u001b[0;32m      2\u001b[0m   \u001b[38;5;124m\"\u001b[39m\u001b[38;5;124mbrand\u001b[39m\u001b[38;5;124m\"\u001b[39m: \u001b[38;5;124m\"\u001b[39m\u001b[38;5;124mFord\u001b[39m\u001b[38;5;124m\"\u001b[39m,\n\u001b[0;32m      3\u001b[0m   \u001b[38;5;124m\"\u001b[39m\u001b[38;5;124mmodel\u001b[39m\u001b[38;5;124m\"\u001b[39m: \u001b[38;5;124m\"\u001b[39m\u001b[38;5;124mMustang\u001b[39m\u001b[38;5;124m\"\u001b[39m,\n\u001b[0;32m      4\u001b[0m   \u001b[38;5;124m\"\u001b[39m\u001b[38;5;124myear\u001b[39m\u001b[38;5;124m\"\u001b[39m: \u001b[38;5;241m1964\u001b[39m\n\u001b[0;32m      5\u001b[0m }\n\u001b[0;32m      6\u001b[0m \u001b[38;5;28;01mdel\u001b[39;00m thisdict\n\u001b[1;32m----> 7\u001b[0m \u001b[38;5;28mprint\u001b[39m(thisdict)\n",
      "\u001b[1;31mNameError\u001b[0m: name 'thisdict' is not defined"
     ]
    }
   ],
   "source": [
    "thisdict = {\n",
    "  \"brand\": \"Ford\",\n",
    "  \"model\": \"Mustang\",\n",
    "  \"year\": 1964\n",
    "}\n",
    "del thisdict\n",
    "print(thisdict) #this will cause an error because \"thisdict\" no longer exists."
   ]
  },
  {
   "cell_type": "markdown",
   "id": "1b690edf-20f5-4d1e-9100-2a81d8194994",
   "metadata": {},
   "source": [
    "Example 147"
   ]
  },
  {
   "cell_type": "code",
   "execution_count": 446,
   "id": "ecf0efef-a5a4-43cb-a164-8079025b0b62",
   "metadata": {},
   "outputs": [
    {
     "name": "stdout",
     "output_type": "stream",
     "text": [
      "{}\n"
     ]
    }
   ],
   "source": [
    "thisdict = {\n",
    "  \"brand\": \"Ford\",\n",
    "  \"model\": \"Mustang\",\n",
    "  \"year\": 1964\n",
    "}\n",
    "thisdict.clear()\n",
    "print(thisdict)"
   ]
  },
  {
   "cell_type": "markdown",
   "id": "8c215e0f-45eb-4387-be75-c80075c23207",
   "metadata": {},
   "source": [
    "Example 148"
   ]
  },
  {
   "cell_type": "code",
   "execution_count": 449,
   "id": "7b4c9b85-ab79-4e3a-a7ba-05a6cc289f28",
   "metadata": {},
   "outputs": [],
   "source": [
    "for x in thisdict:\n",
    "  print(x)"
   ]
  },
  {
   "cell_type": "markdown",
   "id": "4237f51e-066d-4dc4-8251-90cbd0c8cb7e",
   "metadata": {},
   "source": [
    "Example 149"
   ]
  },
  {
   "cell_type": "code",
   "execution_count": 452,
   "id": "a1b697b3-a4b2-478a-b32b-5c0aa94ec4ac",
   "metadata": {},
   "outputs": [],
   "source": [
    "for x in thisdict:\n",
    "  print(thisdict[x])"
   ]
  },
  {
   "cell_type": "markdown",
   "id": "17f4509d-e78d-4e6c-a1ee-36b55dbe77a1",
   "metadata": {},
   "source": [
    "Example 150"
   ]
  },
  {
   "cell_type": "code",
   "execution_count": 455,
   "id": "18dd031e-158f-489c-bdf5-dbcc675630d8",
   "metadata": {},
   "outputs": [],
   "source": [
    "for x in thisdict.values():\n",
    "  print(x)"
   ]
  },
  {
   "cell_type": "markdown",
   "id": "7cc9b924-d656-4d52-8437-c1050ec71a01",
   "metadata": {},
   "source": [
    "Example 151"
   ]
  },
  {
   "cell_type": "code",
   "execution_count": 458,
   "id": "aedb0c42-05ba-43d7-9100-c49ec422b87e",
   "metadata": {},
   "outputs": [],
   "source": [
    "for x in thisdict.keys():\n",
    "  print(x)"
   ]
  },
  {
   "cell_type": "markdown",
   "id": "d44631e7-0573-41ce-b802-a205f2e78686",
   "metadata": {},
   "source": [
    "Example 152"
   ]
  },
  {
   "cell_type": "code",
   "execution_count": 461,
   "id": "9ba41218-e0b2-4b0e-888e-3bc893732cd6",
   "metadata": {},
   "outputs": [],
   "source": [
    "for x, y in thisdict.items():\n",
    "  print(x, y)"
   ]
  },
  {
   "cell_type": "markdown",
   "id": "b308fd67-7f8e-4eb3-ad53-21c3a7c78d8a",
   "metadata": {},
   "source": [
    "Example 153"
   ]
  },
  {
   "cell_type": "code",
   "execution_count": 466,
   "id": "e4b0ddd6-121f-4e9a-b4b9-6a026c42f2f6",
   "metadata": {},
   "outputs": [
    {
     "name": "stdout",
     "output_type": "stream",
     "text": [
      "{'brand': 'Ford', 'model': 'Mustang', 'year': 1964}\n"
     ]
    }
   ],
   "source": [
    "thisdict = {\n",
    "  \"brand\": \"Ford\",\n",
    "  \"model\": \"Mustang\",\n",
    "  \"year\": 1964\n",
    "}\n",
    "mydict = thisdict.copy()\n",
    "print(mydict)"
   ]
  },
  {
   "cell_type": "markdown",
   "id": "4b973f13-f465-4dad-8b0a-974bf4e52b4c",
   "metadata": {},
   "source": [
    "Example 154"
   ]
  },
  {
   "cell_type": "code",
   "execution_count": 469,
   "id": "96a8655a-0c4c-4d26-b896-ac4cceea27d6",
   "metadata": {},
   "outputs": [
    {
     "name": "stdout",
     "output_type": "stream",
     "text": [
      "{'brand': 'Ford', 'model': 'Mustang', 'year': 1964}\n"
     ]
    }
   ],
   "source": [
    "thisdict = {\n",
    "  \"brand\": \"Ford\",\n",
    "  \"model\": \"Mustang\",\n",
    "  \"year\": 1964\n",
    "}\n",
    "mydict = dict(thisdict)\n",
    "print(mydict)"
   ]
  },
  {
   "cell_type": "markdown",
   "id": "5140c2c7-4a0e-4ba8-bf63-69ae44c0e224",
   "metadata": {},
   "source": [
    "Example 155"
   ]
  },
  {
   "cell_type": "code",
   "execution_count": 472,
   "id": "555dba26-1b79-4266-9b17-c8abac2a71b2",
   "metadata": {},
   "outputs": [],
   "source": [
    "myfamily = {\n",
    "  \"child1\" : {\n",
    "    \"name\" : \"Emil\",\n",
    "    \"year\" : 2004\n",
    "  },\n",
    "  \"child2\" : {\n",
    "    \"name\" : \"Tobias\",\n",
    "    \"year\" : 2007\n",
    "  },\n",
    "  \"child3\" : {\n",
    "    \"name\" : \"Linus\",\n",
    "    \"year\" : 2011\n",
    "  }\n",
    "}"
   ]
  },
  {
   "cell_type": "markdown",
   "id": "74d5c0a9-bab0-4a34-9465-a7148d39bd19",
   "metadata": {},
   "source": [
    "Example 156"
   ]
  },
  {
   "cell_type": "code",
   "execution_count": 475,
   "id": "1ac6ea6c-bf53-4fcb-beb6-11fde87b3e6d",
   "metadata": {},
   "outputs": [],
   "source": [
    "child1 = {\n",
    "  \"name\" : \"Emil\",\n",
    "  \"year\" : 2004\n",
    "}\n",
    "child2 = {\n",
    "  \"name\" : \"Tobias\",\n",
    "  \"year\" : 2007\n",
    "}\n",
    "child3 = {\n",
    "  \"name\" : \"Linus\",\n",
    "  \"year\" : 2011\n",
    "}\n",
    "\n",
    "myfamily = {\n",
    "  \"child1\" : child1,\n",
    "  \"child2\" : child2,\n",
    "  \"child3\" : child3\n",
    "}"
   ]
  },
  {
   "cell_type": "markdown",
   "id": "258e64b2-c76d-4230-b206-0a2fa20066fc",
   "metadata": {},
   "source": [
    "Example 157"
   ]
  },
  {
   "cell_type": "code",
   "execution_count": 478,
   "id": "ff91a609-9065-4d55-bd56-73bb7632a55b",
   "metadata": {},
   "outputs": [
    {
     "name": "stdout",
     "output_type": "stream",
     "text": [
      "Tobias\n"
     ]
    }
   ],
   "source": [
    "print(myfamily[\"child2\"][\"name\"])"
   ]
  },
  {
   "cell_type": "markdown",
   "id": "404333af-14d9-4027-89cc-406679cb5ac3",
   "metadata": {},
   "source": [
    "Example 158"
   ]
  },
  {
   "cell_type": "code",
   "execution_count": 481,
   "id": "a21da7a4-21ef-4525-adf9-c575abf1eacb",
   "metadata": {},
   "outputs": [
    {
     "name": "stdout",
     "output_type": "stream",
     "text": [
      "child1\n",
      "name: Emil\n",
      "year: 2004\n",
      "child2\n",
      "name: Tobias\n",
      "year: 2007\n",
      "child3\n",
      "name: Linus\n",
      "year: 2011\n"
     ]
    }
   ],
   "source": [
    "for x, obj in myfamily.items():\n",
    "  print(x)\n",
    "\n",
    "  for y in obj:\n",
    "    print(y + ':', obj[y])"
   ]
  },
  {
   "cell_type": "markdown",
   "id": "4de0448b-2685-413e-8a67-264f01a2a234",
   "metadata": {},
   "source": [
    "Example 159"
   ]
  },
  {
   "cell_type": "code",
   "execution_count": 484,
   "id": "f0070663-edc0-4857-9a21-a16ff1693f83",
   "metadata": {},
   "outputs": [
    {
     "name": "stdout",
     "output_type": "stream",
     "text": [
      "b is greater than a\n"
     ]
    }
   ],
   "source": [
    "a = 33\n",
    "b = 200\n",
    "if b > a:\n",
    "  print(\"b is greater than a\")"
   ]
  },
  {
   "cell_type": "markdown",
   "id": "282c2879-66ba-4bb3-a313-e788d5779d63",
   "metadata": {},
   "source": [
    "Example 160"
   ]
  },
  {
   "cell_type": "code",
   "execution_count": 487,
   "id": "94d5cb1f-d716-4968-9d3b-5d4a8f021d98",
   "metadata": {},
   "outputs": [
    {
     "ename": "IndentationError",
     "evalue": "expected an indented block after 'if' statement on line 3 (1443227691.py, line 4)",
     "output_type": "error",
     "traceback": [
      "\u001b[1;36m  Cell \u001b[1;32mIn[487], line 4\u001b[1;36m\u001b[0m\n\u001b[1;33m    print(\"b is greater than a\") # you will get an error\u001b[0m\n\u001b[1;37m    ^\u001b[0m\n\u001b[1;31mIndentationError\u001b[0m\u001b[1;31m:\u001b[0m expected an indented block after 'if' statement on line 3\n"
     ]
    }
   ],
   "source": [
    "a = 33\n",
    "b = 200\n",
    "if b > a:\n",
    "print(\"b is greater than a\") # you will get an error"
   ]
  },
  {
   "cell_type": "markdown",
   "id": "09986cc9-090e-48ce-8288-fde5482f95d3",
   "metadata": {},
   "source": [
    "Example 161"
   ]
  },
  {
   "cell_type": "code",
   "execution_count": 490,
   "id": "49bde4a1-b624-442e-9369-8f356ae9809a",
   "metadata": {},
   "outputs": [
    {
     "name": "stdout",
     "output_type": "stream",
     "text": [
      "a and b are equal\n"
     ]
    }
   ],
   "source": [
    "a = 33\n",
    "b = 33\n",
    "if b > a:\n",
    "  print(\"b is greater than a\")\n",
    "elif a == b:\n",
    "  print(\"a and b are equal\")"
   ]
  },
  {
   "cell_type": "markdown",
   "id": "979dc023-2c8f-4b41-9abb-88b6c3b954db",
   "metadata": {},
   "source": [
    "Example 162"
   ]
  },
  {
   "cell_type": "code",
   "execution_count": 493,
   "id": "ccde3869-e05c-4866-97d5-a813d2f94539",
   "metadata": {},
   "outputs": [
    {
     "name": "stdout",
     "output_type": "stream",
     "text": [
      "a is greater than b\n"
     ]
    }
   ],
   "source": [
    "a = 200\n",
    "b = 33\n",
    "if b > a:\n",
    "  print(\"b is greater than a\")\n",
    "elif a == b:\n",
    "  print(\"a and b are equal\")\n",
    "else:\n",
    "  print(\"a is greater than b\")"
   ]
  },
  {
   "cell_type": "markdown",
   "id": "cfe34796-64ca-4aaa-b331-9a70cf92375d",
   "metadata": {},
   "source": [
    "Example 163"
   ]
  },
  {
   "cell_type": "code",
   "execution_count": 496,
   "id": "f4b5abce-4d8d-49a4-aa16-b1a624cecbba",
   "metadata": {},
   "outputs": [
    {
     "name": "stdout",
     "output_type": "stream",
     "text": [
      "b is not greater than a\n"
     ]
    }
   ],
   "source": [
    "a = 200\n",
    "b = 33\n",
    "if b > a:\n",
    "  print(\"b is greater than a\")\n",
    "else:\n",
    "  print(\"b is not greater than a\")"
   ]
  },
  {
   "cell_type": "markdown",
   "id": "f2016620-6c53-4c1b-a9f9-cb3cc8ea4b8d",
   "metadata": {},
   "source": [
    "Example 164"
   ]
  },
  {
   "cell_type": "code",
   "execution_count": 499,
   "id": "46329da6-5a92-4e77-b57a-2e9d47fac2ad",
   "metadata": {},
   "outputs": [
    {
     "name": "stdout",
     "output_type": "stream",
     "text": [
      "a is greater than b\n"
     ]
    }
   ],
   "source": [
    "if a > b: print(\"a is greater than b\")"
   ]
  },
  {
   "cell_type": "markdown",
   "id": "ce38adb9-2e68-441b-bbc0-ab016a6e85c4",
   "metadata": {},
   "source": [
    "Example 165"
   ]
  },
  {
   "cell_type": "code",
   "execution_count": 502,
   "id": "ad585384-c93a-414e-86c1-37f76db7ccff",
   "metadata": {},
   "outputs": [
    {
     "name": "stdout",
     "output_type": "stream",
     "text": [
      "B\n"
     ]
    }
   ],
   "source": [
    "a = 2\n",
    "b = 330\n",
    "print(\"A\") if a > b else print(\"B\")"
   ]
  },
  {
   "cell_type": "markdown",
   "id": "7a2637d9-c3e2-4c04-8437-5e19a113f6a1",
   "metadata": {},
   "source": [
    "Example 166"
   ]
  },
  {
   "cell_type": "code",
   "execution_count": 505,
   "id": "059930d2-22d0-4b32-8ee3-fb8be73138ea",
   "metadata": {},
   "outputs": [
    {
     "name": "stdout",
     "output_type": "stream",
     "text": [
      "=\n"
     ]
    }
   ],
   "source": [
    "a = 330\n",
    "b = 330\n",
    "print(\"A\") if a > b else print(\"=\") if a == b else print(\"B\")"
   ]
  },
  {
   "cell_type": "markdown",
   "id": "17a77d5c-059e-41db-9459-e2fee09ada49",
   "metadata": {},
   "source": [
    "Example 167"
   ]
  },
  {
   "cell_type": "code",
   "execution_count": 508,
   "id": "9afb576f-2b22-45ed-9041-e9e0c08d8170",
   "metadata": {},
   "outputs": [
    {
     "name": "stdout",
     "output_type": "stream",
     "text": [
      "Both conditions are True\n"
     ]
    }
   ],
   "source": [
    "a = 200\n",
    "b = 33\n",
    "c = 500\n",
    "if a > b and c > a:\n",
    "  print(\"Both conditions are True\")"
   ]
  },
  {
   "cell_type": "markdown",
   "id": "6a945c5b-dd26-4481-843b-50a5d5978487",
   "metadata": {},
   "source": [
    "Example 168"
   ]
  },
  {
   "cell_type": "code",
   "execution_count": 511,
   "id": "48d3bb27-6305-4701-8a01-cd5173046596",
   "metadata": {},
   "outputs": [
    {
     "name": "stdout",
     "output_type": "stream",
     "text": [
      "At least one of the conditions is True\n"
     ]
    }
   ],
   "source": [
    "a = 200\n",
    "b = 33\n",
    "c = 500\n",
    "if a > b or a > c:\n",
    "  print(\"At least one of the conditions is True\")"
   ]
  },
  {
   "cell_type": "markdown",
   "id": "12cc1a67-c2bb-48a7-bc20-2cf269a3fb7d",
   "metadata": {},
   "source": [
    "Example 169"
   ]
  },
  {
   "cell_type": "code",
   "execution_count": 514,
   "id": "0341213c-6004-4faa-8e75-1c8c03a38aeb",
   "metadata": {},
   "outputs": [
    {
     "name": "stdout",
     "output_type": "stream",
     "text": [
      "a is NOT greater than b\n"
     ]
    }
   ],
   "source": [
    "a = 33\n",
    "b = 200\n",
    "if not a > b:\n",
    "  print(\"a is NOT greater than b\")"
   ]
  },
  {
   "cell_type": "markdown",
   "id": "ceb80e74-7fca-43fd-a86d-87b194280a6f",
   "metadata": {},
   "source": [
    "Example 170"
   ]
  },
  {
   "cell_type": "code",
   "execution_count": 517,
   "id": "5d9e2e71-dedd-467e-80c3-cf1853b686e5",
   "metadata": {},
   "outputs": [
    {
     "name": "stdout",
     "output_type": "stream",
     "text": [
      "Above ten,\n",
      "and also above 20!\n"
     ]
    }
   ],
   "source": [
    "x = 41\n",
    "\n",
    "if x > 10:\n",
    "  print(\"Above ten,\")\n",
    "  if x > 20:\n",
    "    print(\"and also above 20!\")\n",
    "  else:\n",
    "    print(\"but not above 20.\")"
   ]
  },
  {
   "cell_type": "markdown",
   "id": "f5501727-6865-417b-8509-273cf1736e46",
   "metadata": {},
   "source": [
    "Example 171"
   ]
  },
  {
   "cell_type": "code",
   "execution_count": 520,
   "id": "6a47b210-cd03-4e9c-8e28-7f422c41f6f6",
   "metadata": {},
   "outputs": [],
   "source": [
    "a = 33\n",
    "b = 200\n",
    "\n",
    "if b > a:\n",
    "  pass"
   ]
  },
  {
   "cell_type": "markdown",
   "id": "219db780-0f73-4879-a735-9cfc5a298de7",
   "metadata": {},
   "source": [
    "Example 172"
   ]
  },
  {
   "cell_type": "code",
   "execution_count": 523,
   "id": "d934a75e-5522-4030-b65b-e30bb8bb6a56",
   "metadata": {},
   "outputs": [
    {
     "name": "stdout",
     "output_type": "stream",
     "text": [
      "1\n",
      "2\n",
      "3\n",
      "4\n",
      "5\n"
     ]
    }
   ],
   "source": [
    "i = 1\n",
    "while i < 6:\n",
    "  print(i)\n",
    "  i += 1"
   ]
  },
  {
   "cell_type": "markdown",
   "id": "206a7531-d643-4c81-b830-b2e3ea1add3d",
   "metadata": {},
   "source": [
    "Example 173"
   ]
  },
  {
   "cell_type": "code",
   "execution_count": 526,
   "id": "a31eeaa5-0237-4669-9fe4-d7292a5e3173",
   "metadata": {},
   "outputs": [
    {
     "name": "stdout",
     "output_type": "stream",
     "text": [
      "1\n",
      "2\n",
      "3\n"
     ]
    }
   ],
   "source": [
    "i = 1\n",
    "while i < 6:\n",
    "  print(i)\n",
    "  if i == 3:\n",
    "    break\n",
    "  i += 1"
   ]
  },
  {
   "cell_type": "markdown",
   "id": "17630ad4-c442-41fc-babf-738cacee11bc",
   "metadata": {},
   "source": [
    "Example 174"
   ]
  },
  {
   "cell_type": "code",
   "execution_count": 529,
   "id": "adfb08f2-278c-41cf-a66a-20b0efce93a0",
   "metadata": {},
   "outputs": [
    {
     "name": "stdout",
     "output_type": "stream",
     "text": [
      "1\n",
      "2\n",
      "4\n",
      "5\n",
      "6\n"
     ]
    }
   ],
   "source": [
    "i = 0\n",
    "while i < 6:\n",
    "  i += 1\n",
    "  if i == 3:\n",
    "    continue\n",
    "  print(i)"
   ]
  },
  {
   "cell_type": "markdown",
   "id": "81079ab9-8afb-456a-b3e2-0113228e0205",
   "metadata": {},
   "source": [
    "Example 175"
   ]
  },
  {
   "cell_type": "code",
   "execution_count": 532,
   "id": "13f39334-a02d-4529-90d1-d083a3dbdcea",
   "metadata": {},
   "outputs": [
    {
     "name": "stdout",
     "output_type": "stream",
     "text": [
      "1\n",
      "2\n",
      "3\n",
      "4\n",
      "5\n",
      "i is no longer less than 6\n"
     ]
    }
   ],
   "source": [
    "i = 1\n",
    "while i < 6:\n",
    "  print(i)\n",
    "  i += 1\n",
    "else:\n",
    "  print(\"i is no longer less than 6\")"
   ]
  },
  {
   "cell_type": "markdown",
   "id": "c2f9fa4b-4b64-4a6a-ba28-7b40cb3f8acc",
   "metadata": {},
   "source": [
    "Example 176"
   ]
  },
  {
   "cell_type": "code",
   "execution_count": 535,
   "id": "87dca8e7-d86a-4100-98df-aa010420a317",
   "metadata": {},
   "outputs": [
    {
     "name": "stdout",
     "output_type": "stream",
     "text": [
      "apple\n",
      "banana\n",
      "cherry\n"
     ]
    }
   ],
   "source": [
    "fruits = [\"apple\", \"banana\", \"cherry\"]\n",
    "for x in fruits:\n",
    "  print(x)"
   ]
  },
  {
   "cell_type": "markdown",
   "id": "afb90aeb-d66c-4737-abd9-baa368afed85",
   "metadata": {},
   "source": [
    "Example 177"
   ]
  },
  {
   "cell_type": "code",
   "execution_count": 538,
   "id": "60fa82be-23ac-4dd3-ace3-ade44f4c2b1a",
   "metadata": {},
   "outputs": [
    {
     "name": "stdout",
     "output_type": "stream",
     "text": [
      "b\n",
      "a\n",
      "n\n",
      "a\n",
      "n\n",
      "a\n"
     ]
    }
   ],
   "source": [
    "for x in \"banana\":\n",
    "  print(x)"
   ]
  },
  {
   "cell_type": "markdown",
   "id": "4ebee17c-eea5-4993-9cf2-6b19f4ca5844",
   "metadata": {},
   "source": [
    "Example 178"
   ]
  },
  {
   "cell_type": "code",
   "execution_count": 541,
   "id": "c4fcae2c-9708-4470-8f3e-cead7ea0eda3",
   "metadata": {},
   "outputs": [
    {
     "name": "stdout",
     "output_type": "stream",
     "text": [
      "apple\n",
      "banana\n"
     ]
    }
   ],
   "source": [
    "fruits = [\"apple\", \"banana\", \"cherry\"]\n",
    "for x in fruits:\n",
    "  print(x)\n",
    "  if x == \"banana\":\n",
    "    break"
   ]
  },
  {
   "cell_type": "markdown",
   "id": "dddba7af-278d-470b-ab0d-4455d2ae74c4",
   "metadata": {},
   "source": [
    "Example 179"
   ]
  },
  {
   "cell_type": "code",
   "execution_count": 544,
   "id": "63a8b946-fef8-4b5f-a25f-c6db7c86ed85",
   "metadata": {},
   "outputs": [
    {
     "name": "stdout",
     "output_type": "stream",
     "text": [
      "apple\n"
     ]
    }
   ],
   "source": [
    "fruits = [\"apple\", \"banana\", \"cherry\"]\n",
    "for x in fruits:\n",
    "  if x == \"banana\":\n",
    "    break\n",
    "  print(x)"
   ]
  },
  {
   "cell_type": "markdown",
   "id": "552b4a4b-3eb4-4f35-95a0-23f7c559134f",
   "metadata": {},
   "source": [
    "Example 180"
   ]
  },
  {
   "cell_type": "code",
   "execution_count": 547,
   "id": "0083fb52-1134-41be-9cb1-90a7644d59c6",
   "metadata": {},
   "outputs": [
    {
     "name": "stdout",
     "output_type": "stream",
     "text": [
      "apple\n",
      "cherry\n"
     ]
    }
   ],
   "source": [
    "fruits = [\"apple\", \"banana\", \"cherry\"]\n",
    "for x in fruits:\n",
    "  if x == \"banana\":\n",
    "    continue\n",
    "  print(x)"
   ]
  },
  {
   "cell_type": "markdown",
   "id": "29e23145-ca00-4d5e-80d5-333efbad6c0d",
   "metadata": {},
   "source": [
    "Example 181"
   ]
  },
  {
   "cell_type": "code",
   "execution_count": 550,
   "id": "cf595859-6036-4b27-9d99-d445aac55df7",
   "metadata": {},
   "outputs": [
    {
     "name": "stdout",
     "output_type": "stream",
     "text": [
      "0\n",
      "1\n",
      "2\n",
      "3\n",
      "4\n",
      "5\n"
     ]
    }
   ],
   "source": [
    "for x in range(6):\n",
    "  print(x)"
   ]
  },
  {
   "cell_type": "markdown",
   "id": "ee3a467d-745a-43ed-8a56-2a33ecfc43dc",
   "metadata": {},
   "source": [
    "Example 182"
   ]
  },
  {
   "cell_type": "code",
   "execution_count": 553,
   "id": "1287865d-5102-4951-b26b-9f55a233a018",
   "metadata": {},
   "outputs": [
    {
     "name": "stdout",
     "output_type": "stream",
     "text": [
      "2\n",
      "3\n",
      "4\n",
      "5\n"
     ]
    }
   ],
   "source": [
    "for x in range(2, 6):\n",
    "  print(x)"
   ]
  },
  {
   "cell_type": "markdown",
   "id": "20c9dea6-74fd-442e-b07b-5138ea1bc824",
   "metadata": {},
   "source": [
    "Example 183"
   ]
  },
  {
   "cell_type": "code",
   "execution_count": 556,
   "id": "56e20a87-d749-4f5a-9754-4fa177e01330",
   "metadata": {},
   "outputs": [
    {
     "name": "stdout",
     "output_type": "stream",
     "text": [
      "2\n",
      "5\n",
      "8\n",
      "11\n",
      "14\n",
      "17\n",
      "20\n",
      "23\n",
      "26\n",
      "29\n"
     ]
    }
   ],
   "source": [
    "for x in range(2, 30, 3):\n",
    "  print(x)"
   ]
  },
  {
   "cell_type": "markdown",
   "id": "b6c4dbba-7b6c-4f03-924b-3f58820c1f43",
   "metadata": {},
   "source": [
    "Example 184"
   ]
  },
  {
   "cell_type": "code",
   "execution_count": 559,
   "id": "f80e13dd-9bbd-455f-97d2-778dd4751afb",
   "metadata": {},
   "outputs": [
    {
     "name": "stdout",
     "output_type": "stream",
     "text": [
      "0\n",
      "1\n",
      "2\n",
      "3\n",
      "4\n",
      "5\n",
      "Finally finished!\n"
     ]
    }
   ],
   "source": [
    "for x in range(6):\n",
    "  print(x)\n",
    "else:\n",
    "  print(\"Finally finished!\")"
   ]
  },
  {
   "cell_type": "markdown",
   "id": "29912aa9-305d-4130-a0ca-f4b570cf3657",
   "metadata": {},
   "source": [
    "Example 185"
   ]
  },
  {
   "cell_type": "code",
   "execution_count": 562,
   "id": "b378f36c-e92f-41de-82de-0491d0a9f147",
   "metadata": {},
   "outputs": [
    {
     "name": "stdout",
     "output_type": "stream",
     "text": [
      "0\n",
      "1\n",
      "2\n"
     ]
    }
   ],
   "source": [
    "for x in range(6):\n",
    "  if x == 3: break\n",
    "  print(x)\n",
    "else:\n",
    "  print(\"Finally finished!\")"
   ]
  },
  {
   "cell_type": "markdown",
   "id": "81ebd7e7-a792-4e7b-a353-1c6d8de6d88e",
   "metadata": {},
   "source": [
    "Example 186"
   ]
  },
  {
   "cell_type": "code",
   "execution_count": 565,
   "id": "79c4d5f8-1552-44cd-a8f6-d337d33c38ef",
   "metadata": {},
   "outputs": [
    {
     "name": "stdout",
     "output_type": "stream",
     "text": [
      "red apple\n",
      "red banana\n",
      "red cherry\n",
      "big apple\n",
      "big banana\n",
      "big cherry\n",
      "tasty apple\n",
      "tasty banana\n",
      "tasty cherry\n"
     ]
    }
   ],
   "source": [
    "adj = [\"red\", \"big\", \"tasty\"]\n",
    "fruits = [\"apple\", \"banana\", \"cherry\"]\n",
    "\n",
    "for x in adj:\n",
    "  for y in fruits:\n",
    "    print(x, y)"
   ]
  },
  {
   "cell_type": "markdown",
   "id": "ba0dc77f-0692-4d67-a65a-9cf626bc0f29",
   "metadata": {},
   "source": [
    "Example 187"
   ]
  },
  {
   "cell_type": "code",
   "execution_count": 568,
   "id": "894d7674-04b1-4604-be14-fc3be6ad4d24",
   "metadata": {},
   "outputs": [],
   "source": [
    "for x in [0, 1, 2]:\n",
    "  pass"
   ]
  }
 ],
 "metadata": {
  "kernelspec": {
   "display_name": "Python [conda env:base] *",
   "language": "python",
   "name": "conda-base-py"
  },
  "language_info": {
   "codemirror_mode": {
    "name": "ipython",
    "version": 3
   },
   "file_extension": ".py",
   "mimetype": "text/x-python",
   "name": "python",
   "nbconvert_exporter": "python",
   "pygments_lexer": "ipython3",
   "version": "3.12.7"
  }
 },
 "nbformat": 4,
 "nbformat_minor": 5
}
